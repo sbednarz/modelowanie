{
 "cells": [
  {
   "cell_type": "markdown",
   "metadata": {},
   "source": [
    "## Bilanse masowe cz. 1 (rozwiązywanie równań i układów równań)"
   ]
  },
  {
   "cell_type": "markdown",
   "metadata": {},
   "source": [
    "### Przykład 1. Funkcja fsolve\n",
    "\n",
    "Rozwiązać równanie: $2.5 = \\sqrt{x}$ \n",
    "inaczej mówiąc, znaleźć miejsce (lub miejsca) zerowe funkcji: $2.5 - \\sqrt{x} = 0$.\n"
   ]
  },
  {
   "cell_type": "code",
   "execution_count": 22,
   "metadata": {
    "collapsed": false
   },
   "outputs": [
    {
     "name": "stdout",
     "output_type": "stream",
     "text": [
      "Wynik: 6.25\n"
     ]
    }
   ],
   "source": [
    "from scipy.optimize import fsolve # potrzebna funkcja fsolve\n",
    "import numpy as np\n",
    "\n",
    "guess = 8 # wartość szacunkowa, startowa do poszukiwać rozwiązania\n",
    "\n",
    "def f(x):\n",
    "    return 2.5 - np.sqrt(x)\n",
    "\n",
    "x0, = fsolve(f, guess)\n",
    "print(\"Wynik: {0:.2f}\".format(x0))"
   ]
  },
  {
   "cell_type": "markdown",
   "metadata": {},
   "source": [
    "Graficzne przedstawienie rozwiązania:"
   ]
  },
  {
   "cell_type": "code",
   "execution_count": 23,
   "metadata": {
    "collapsed": false
   },
   "outputs": [
    {
     "data": {
      "text/plain": [
       "[<matplotlib.lines.Line2D at 0x7f1ebe7a8a50>]"
      ]
     },
     "execution_count": 23,
     "metadata": {},
     "output_type": "execute_result"
    },
    {
     "data": {
      "image/png": "[encoded data removed]",
      "text/plain": [
       "<matplotlib.figure.Figure at 0x7f1ebe6c8490>"
      ]
     },
     "metadata": {},
     "output_type": "display_data"
    }
   ],
   "source": [
    "%matplotlib inline\n",
    "\n",
    "import matplotlib.pyplot as plt\n",
    "import numpy as np\n",
    "\n",
    "x = np.linspace(0, 10)\n",
    "\n",
    "#przebieg funkcji f(x)\n",
    "plt.plot( x, f(x), 'r-')\n",
    "\n",
    "#znacznik w punkcie (x0,0) - rozwiązanie\n",
    "plt.plot( x0, 0, 'ko')\n",
    "\n",
    "#linie pomocnicze\n",
    "plt.plot((0,10), (0,0), 'k:')\n",
    "plt.plot((x0,x0), (2.5,-1.0), 'k:')\n",
    "\n"
   ]
  },
  {
   "cell_type": "markdown",
   "metadata": {},
   "source": [
    "Czyli $\\sqrt{x} = 2.5$ dla x = 6.25:"
   ]
  },
  {
   "cell_type": "code",
   "execution_count": 24,
   "metadata": {
    "collapsed": false
   },
   "outputs": [
    {
     "data": {
      "text/plain": [
       "[<matplotlib.lines.Line2D at 0x7f1ebe7d6d90>]"
      ]
     },
     "execution_count": 24,
     "metadata": {},
     "output_type": "execute_result"
    },
    {
     "data": {
      "image/png": "[encoded data removed]",
      "text/plain": [
       "<matplotlib.figure.Figure at 0x7f1ebe84a810>"
      ]
     },
     "metadata": {},
     "output_type": "display_data"
    }
   ],
   "source": [
    "%matplotlib inline\n",
    "\n",
    "import matplotlib.pyplot as plt\n",
    "import numpy as np\n",
    "\n",
    "x = np.linspace(0, 10)\n",
    "\n",
    "#przebieg funkcji f(x)\n",
    "plt.plot( x, np.sqrt(x), 'r-')\n",
    "\n",
    "plt.plot (x0,2.5,'o')"
   ]
  },
  {
   "cell_type": "markdown",
   "metadata": {},
   "source": [
    "** Ćwiczenie 1. **\n",
    "\n",
    "Sporządzić wykres funkcji: $0.5(x-2)^2=10$ i znaleść rozwiązanie (rozwiązania) tego równania (Podpowiedź: wartość guess)."
   ]
  },
  {
   "cell_type": "markdown",
   "metadata": {},
   "source": [
    "### Rozwiązywanie układów równań"
   ]
  },
  {
   "cell_type": "markdown",
   "metadata": {},
   "source": [
    "### Przykład 2. Funkcja linalg.solve\n",
    "\n",
    "Rozwiązać układ równań liniowych:\n",
    "\\begin{cases}\n",
    "x_1 + x_2 + x_3 = 10 \\\\\n",
    "0.04x_1 + 0.54x_2 + 0.26x_3 = 2 \\\\\n",
    "0.93x_1 + 0.24x_2 + 0x_3 = 6\n",
    "\\end{cases}"
   ]
  },
  {
   "cell_type": "code",
   "execution_count": 25,
   "metadata": {
    "collapsed": false
   },
   "outputs": [
    {
     "name": "stdout",
     "output_type": "stream",
     "text": [
      "Rozwiązanie:\n",
      "[ 5.82375479  2.43295019  1.74329502]\n"
     ]
    }
   ],
   "source": [
    "import numpy as np\n",
    "\n",
    "# współczynniki \"przy x\"\n",
    "a = np.array([[1,1,1], [0.04,0.54,0.26], [0.93, 0.24, 0]])\n",
    "# wyrazy wolne\n",
    "b = np.array([10,2,6])\n",
    "# \n",
    "x = np.linalg.solve(a,b)\n",
    "print \"Rozwiązanie:\"\n",
    "print(x)"
   ]
  },
  {
   "cell_type": "markdown",
   "metadata": {},
   "source": [
    "### Przykład 3. Funkcja fsolve\n",
    "\n",
    "Rozwiązać układ równań nieliniowych:\n",
    "\\begin{cases}\n",
    "y=x^2\\\\\n",
    "y=8-x^2\n",
    "\\end{cases}"
   ]
  },
  {
   "cell_type": "code",
   "execution_count": 29,
   "metadata": {
    "collapsed": false
   },
   "outputs": [
    {
     "name": "stdout",
     "output_type": "stream",
     "text": [
      "Rozwiązanie 1: 2.00 4.00\n",
      "Rozwiązanie 2: -2.00 4.00\n"
     ]
    }
   ],
   "source": [
    "from scipy.optimize import fsolve\n",
    "\n",
    "def objective(X):\n",
    "    x,y = X\n",
    "    eq1 = y - x**2\n",
    "    eq2 = y - 8 + x**2\n",
    "    return [eq1, eq2]\n",
    "\n",
    "x0 = 1\n",
    "y0 = 1\n",
    "guess = [x0, y0]\n",
    "x1,y1 = fsolve(objective, guess)\n",
    "print(\"Rozwiązanie 1: %.2f %.2f\" % (x1,y1))\n",
    "\n",
    "x0 = -1\n",
    "y0 = -1\n",
    "guess = [x0, y0]\n",
    "x2,y2 = fsolve(objective, guess)\n",
    "print(\"Rozwiązanie 2: %.2f %.2f\" % (x2,y2))\n"
   ]
  },
  {
   "cell_type": "code",
   "execution_count": 30,
   "metadata": {
    "collapsed": false
   },
   "outputs": [
    {
     "data": {
      "text/plain": [
       "[<matplotlib.lines.Line2D at 0x7f1ebe48ec50>]"
      ]
     },
     "execution_count": 30,
     "metadata": {},
     "output_type": "execute_result"
    },
    {
     "data": {
      "image/png": "[encoded data removed]",
      "text/plain": [
       "<matplotlib.figure.Figure at 0x7f1ebe6fbd90>"
      ]
     },
     "metadata": {},
     "output_type": "display_data"
    }
   ],
   "source": [
    "%matplotlib inline\n",
    "import matplotlib.pyplot as plt\n",
    "import numpy as np\n",
    "\n",
    "#import matplotlib as mpl\n",
    "#mpl.rcParams.update({'font.size': 14})\n",
    "\n",
    "x = np.arange(-5.0, 5.0, 0.1)\n",
    "plt.figure(figsize=(7,5))\n",
    "plt.plot( x, x**2, 'r-')\n",
    "plt.plot( x, 8-x**2, 'g-')\n",
    "plt.plot( x1, y1, 'ko')\n",
    "plt.plot( x2, y2, 'ko')\n"
   ]
  },
  {
   "cell_type": "markdown",
   "metadata": {},
   "source": [
    "### Przykład 4. Mieszanina rozpuszczalników\n",
    "\n",
    "Podać sposób otrzymania 1000L mieszaniny rozpuszczalników składającej się z acetonu i octanu etylu, tak aby ułamek molowy acetonu ($x_a$) wynosił 0.5.\n"
   ]
  },
  {
   "cell_type": "code",
   "execution_count": 45,
   "metadata": {
    "collapsed": false
   },
   "outputs": [
    {
     "name": "stdout",
     "output_type": "stream",
     "text": [
      "Rozwiązanie: V_a = 427.73L  V_oe = 572.27L\n"
     ]
    }
   ],
   "source": [
    "#dane:\n",
    "\n",
    "M_a = 58     #kg/kmol\n",
    "ro_a = 791   #kg/m^3\n",
    "\n",
    "M_oe = 88    #kg/kmol\n",
    "ro_oe = 897  #kg/m^3\n",
    "\n",
    "V_total = 1000\n",
    "\n",
    "x_a = 0.5\n",
    "x_oe = 1 - 0.5  # z definicji\n",
    "\n",
    "\n",
    "\n",
    "def model(X):\n",
    "    V_a, V_oe = X\n",
    "    \n",
    "    # przeliczenie objętości na ilości moli\n",
    "    n_a = (ro_a*V_a)/M_a\n",
    "    n_oe = (ro_oe*V_oe)/M_oe\n",
    "        \n",
    "    # bilans objętości (zał. brak kontrakcji)\n",
    "    eq1 = V_a + V_oe - 1000\n",
    "    \n",
    "    # z definicji ułamak molowego\n",
    "    eq2 = n_a/(n_oe+n_a) - x_a\n",
    "    \n",
    "    return [eq1, eq2]\n",
    "\n",
    "\n",
    "V0_a = 100\n",
    "V0_oe = 100\n",
    "guess = [V0_a, V0_oe]\n",
    "\n",
    "V_a, V_oe = fsolve(model, guess)\n",
    "print(\"Rozwiązanie: V_a = {0:.2f}L  V_oe = {1:.2f}L\".format(V_a, V_oe))\n"
   ]
  },
  {
   "cell_type": "markdown",
   "metadata": {},
   "source": [
    "Sprawdzenie obliczeń:"
   ]
  },
  {
   "cell_type": "code",
   "execution_count": 46,
   "metadata": {
    "collapsed": false
   },
   "outputs": [
    {
     "data": {
      "text/plain": [
       "1000.0000000000001"
      ]
     },
     "execution_count": 46,
     "metadata": {},
     "output_type": "execute_result"
    }
   ],
   "source": [
    "V_a + V_oe"
   ]
  },
  {
   "cell_type": "markdown",
   "metadata": {},
   "source": [
    "** Ćwiczenie 2. **\n",
    "\n",
    "Podać sposób otrzymania 1000L mieszaniny rozpuszczalników składającej się z acetonu, octanu etylu i metanolu, tak aby ułamek molowy acetonu ($x_a$) i metanolu ($x_m$) wynosił odpowiednio: 0.5 i 0.2."
   ]
  },
  {
   "cell_type": "code",
   "execution_count": null,
   "metadata": {
    "collapsed": true
   },
   "outputs": [],
   "source": []
  }
 ],
 "metadata": {
  "kernelspec": {
   "display_name": "Python 2",
   "language": "python",
   "name": "python2"
  },
  "language_info": {
   "codemirror_mode": {
    "name": "ipython",
    "version": 2
   },
   "file_extension": ".py",
   "mimetype": "text/x-python",
   "name": "python",
   "nbconvert_exporter": "python",
   "pygments_lexer": "ipython2",
   "version": "2.7.10"
  }
 },
 "nbformat": 4,
 "nbformat_minor": 0
}
