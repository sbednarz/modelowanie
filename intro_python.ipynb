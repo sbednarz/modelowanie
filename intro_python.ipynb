{
 "cells": [
  {
   "cell_type": "markdown",
   "metadata": {},
   "source": [
    "### Łagodne wprowadzenie do Python/Jupiter\n",
    "\n",
    "#### Początki ..."
   ]
  },
  {
   "cell_type": "code",
   "execution_count": 43,
   "metadata": {
    "collapsed": false
   },
   "outputs": [
    {
     "data": {
      "text/plain": [
       "4.0"
      ]
     },
     "execution_count": 43,
     "metadata": {},
     "output_type": "execute_result"
    }
   ],
   "source": [
    "2+2+(44/4-11)"
   ]
  },
  {
   "cell_type": "code",
   "execution_count": 44,
   "metadata": {
    "collapsed": false
   },
   "outputs": [
    {
     "name": "stdout",
     "output_type": "stream",
     "text": [
      "4\n"
     ]
    }
   ],
   "source": [
    "print(2+2)"
   ]
  },
  {
   "cell_type": "code",
   "execution_count": 45,
   "metadata": {
    "collapsed": false
   },
   "outputs": [
    {
     "name": "stdout",
     "output_type": "stream",
     "text": [
      "Ala ma kota.\n"
     ]
    }
   ],
   "source": [
    "print(\"Ala ma kota.\")"
   ]
  },
  {
   "cell_type": "code",
   "execution_count": 46,
   "metadata": {
    "collapsed": false
   },
   "outputs": [
    {
     "name": "stdout",
     "output_type": "stream",
     "text": [
      "Ala ma 10 kotów.\n"
     ]
    }
   ],
   "source": [
    "n=10\n",
    "print(\"Ala ma %i kotów.\" % n)"
   ]
  },
  {
   "cell_type": "code",
   "execution_count": 47,
   "metadata": {
    "collapsed": false
   },
   "outputs": [
    {
     "name": "stdout",
     "output_type": "stream",
     "text": [
      "Najcięższy kot Ali waży 4.500000 kg.\n"
     ]
    }
   ],
   "source": [
    "m_max = 4.5\n",
    "print(\"Najcięższy kot Ali waży %f kg.\" % m_max)\n"
   ]
  },
  {
   "cell_type": "code",
   "execution_count": 48,
   "metadata": {
    "collapsed": false
   },
   "outputs": [
    {
     "name": "stdout",
     "output_type": "stream",
     "text": [
      "Najcięższy kot Ali waży 4.5 kg.\n"
     ]
    }
   ],
   "source": [
    "m_max = 4.5\n",
    "print(\"Najcięższy kot Ali waży %.1f kg.\" % m_max)\n"
   ]
  },
  {
   "cell_type": "code",
   "execution_count": 49,
   "metadata": {
    "collapsed": false
   },
   "outputs": [
    {
     "name": "stdout",
     "output_type": "stream",
     "text": [
      "Cp= 10.00 %\n"
     ]
    }
   ],
   "source": [
    "ms = 10\n",
    "mr = 100\n",
    "cp = ms/mr * 100\n",
    "print(\"Cp= %.2f %%\" % cp)"
   ]
  },
  {
   "cell_type": "markdown",
   "metadata": {},
   "source": [
    "Oto pole \"textowe\". \n",
    "\n",
    "####Poniżej funkcje matematyczne..."
   ]
  },
  {
   "cell_type": "code",
   "execution_count": 50,
   "metadata": {
    "collapsed": false
   },
   "outputs": [
    {
     "name": "stdout",
     "output_type": "stream",
     "text": [
      "0.9999118601072672\n",
      "1.0\n",
      "2.302585092994046\n",
      "8\n",
      "0.1411200080598672\n"
     ]
    }
   ],
   "source": [
    "#\n",
    "#komentarz w kodzie\n",
    "#\n",
    "\n",
    "# załadowanie funkcji matematycznych ...\n",
    "import math\n",
    "\n",
    "# ... i użycie\n",
    "print(math.sin(33))\n",
    "print(math.log10(10))\n",
    "\n",
    "#log naturalny ==> ln\n",
    "print(math.log(10))\n",
    "\n",
    "#potęgowanie 2^3\n",
    "print(2**3)\n",
    "\n",
    "#\n",
    "print(math.sin(3))\n"
   ]
  },
  {
   "cell_type": "markdown",
   "metadata": {},
   "source": [
    "####Funkcje zdefiniowane przez użytkownika"
   ]
  },
  {
   "cell_type": "code",
   "execution_count": 51,
   "metadata": {
    "collapsed": true
   },
   "outputs": [],
   "source": [
    "# nazwa funkcji oblicz_cp\n",
    "# argumenty 2: ms i mw, mogą to być dowolne typy danych (patrz niżej)\n",
    "def oblicz_cp(ms,mw):\n",
    "    cp = ms / (ms+mw) *100\n",
    "    #funkcja zwraca wynik, czyli wartość cp\n",
    "    return cp\n"
   ]
  },
  {
   "cell_type": "code",
   "execution_count": 52,
   "metadata": {
    "collapsed": true
   },
   "outputs": [],
   "source": [
    "stezenie = oblicz_cp(10,90)"
   ]
  },
  {
   "cell_type": "code",
   "execution_count": 53,
   "metadata": {
    "collapsed": false
   },
   "outputs": [
    {
     "name": "stdout",
     "output_type": "stream",
     "text": [
      "Stężenie obliczone wynosi: 10.000%\n"
     ]
    }
   ],
   "source": [
    "print(\"Stężenie obliczone wynosi: %.3f%%\" % stezenie)"
   ]
  },
  {
   "cell_type": "markdown",
   "metadata": {},
   "source": [
    "####Typy danych"
   ]
  },
  {
   "cell_type": "code",
   "execution_count": 54,
   "metadata": {
    "collapsed": false
   },
   "outputs": [
    {
     "name": "stdout",
     "output_type": "stream",
     "text": [
      "<class 'float'>\n",
      "<class 'str'>\n"
     ]
    }
   ],
   "source": [
    "#skalar\n",
    "N = 100.5\n",
    "\n",
    "#napis\n",
    "tekst = \"Ala ma kota.\"\n",
    "\n",
    "print( type(N) )\n",
    "print( type(tekst) )"
   ]
  },
  {
   "cell_type": "code",
   "execution_count": 55,
   "metadata": {
    "collapsed": true
   },
   "outputs": [],
   "source": [
    "#lista\n",
    "# - nawiasy klamrowe\n",
    "lista1 = [1, 2, 3]\n",
    "lista2 = [\"Ala\", \"ma\", 4444]\n"
   ]
  },
  {
   "cell_type": "code",
   "execution_count": 56,
   "metadata": {
    "collapsed": false
   },
   "outputs": [
    {
     "data": {
      "text/plain": [
       "[1, 2, 3]"
      ]
     },
     "execution_count": 56,
     "metadata": {},
     "output_type": "execute_result"
    }
   ],
   "source": [
    "lista1"
   ]
  },
  {
   "cell_type": "code",
   "execution_count": 57,
   "metadata": {
    "collapsed": false
   },
   "outputs": [
    {
     "data": {
      "text/plain": [
       "['Ala', 'ma', 4444]"
      ]
     },
     "execution_count": 57,
     "metadata": {},
     "output_type": "execute_result"
    }
   ],
   "source": [
    "lista2"
   ]
  },
  {
   "cell_type": "code",
   "execution_count": 58,
   "metadata": {
    "collapsed": false
   },
   "outputs": [
    {
     "data": {
      "text/plain": [
       "'ma'"
      ]
     },
     "execution_count": 58,
     "metadata": {},
     "output_type": "execute_result"
    }
   ],
   "source": [
    "lista2[1]"
   ]
  },
  {
   "cell_type": "code",
   "execution_count": 59,
   "metadata": {
    "collapsed": false
   },
   "outputs": [
    {
     "data": {
      "text/plain": [
       "'Ala'"
      ]
     },
     "execution_count": 59,
     "metadata": {},
     "output_type": "execute_result"
    }
   ],
   "source": [
    "lista2[0]\n"
   ]
  },
  {
   "cell_type": "code",
   "execution_count": null,
   "metadata": {
    "collapsed": true
   },
   "outputs": [],
   "source": [
    " "
   ]
  }
 ],
 "metadata": {
  "kernelspec": {
   "display_name": "Python 3",
   "language": "python",
   "name": "python3"
  },
  "language_info": {
   "codemirror_mode": {
    "name": "ipython",
    "version": 3
   },
   "file_extension": ".py",
   "mimetype": "text/x-python",
   "name": "python",
   "nbconvert_exporter": "python",
   "pygments_lexer": "ipython3",
   "version": "3.4.3"
  }
 },
 "nbformat": 4,
 "nbformat_minor": 0
}
