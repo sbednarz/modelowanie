{
 "cells": [
  {
   "cell_type": "markdown",
   "metadata": {},
   "source": [
    "Literatura:\n",
    "\n",
    "1. \"Zasady inżynierii reaktorów chemicznych\" B.Tabiś \n",
    "2. http://www.umich.edu/~elements/5e/\n"
   ]
  },
  {
   "cell_type": "markdown",
   "metadata": {},
   "source": [
    "** Reaktor izotermiczne półokresowy **"
   ]
  },
  {
   "cell_type": "code",
   "execution_count": 1,
   "metadata": {},
   "outputs": [
    {
     "data": {
      "text/plain": [
       "Text(0,0.5,'Stezenie reagentow')"
      ]
     },
     "execution_count": 1,
     "metadata": {},
     "output_type": "execute_result"
    },
    {
     "data": {
      "image/png": "[encoded data removed]",
      "text/plain": [
       "<matplotlib.figure.Figure at 0x249c405cb00>"
      ]
     },
     "metadata": {},
     "output_type": "display_data"
    }
   ],
   "source": [
    "%matplotlib inline\n",
    "import matplotlib.pyplot as plt\n",
    "\n",
    "import numpy\n",
    "from scipy.integrate import odeint\n",
    "\n",
    "# reaktor półokresowy !\n",
    "\n",
    "# A --> C, katalizatorem jest dostaczany B, \n",
    "# wyrażenie na szybkość wyznaczone doświadczalnie: v=-k*ca*cb, \n",
    "# k=0.25 mol/L*min\n",
    "# V0 = 2700 L\n",
    "# A0 = 20 mol/L\n",
    "# B0 = 0\n",
    "# [B] = 0.05 mol/L\n",
    "# FlowB = 12.5 L/min\n",
    "# t = 0 ... 200 min\n",
    "\n",
    "B = 0.05 #mol/L\n",
    "FlowB = 12.5 #L/min\n",
    "k = 0.25 #mol/L*min\n",
    "FB = FlowB * B #mol/min\n",
    "\n",
    "def model(y, t):  \n",
    "\n",
    "    nA = y[0]              # ponieważ V(t), trzeba stosować n(t) zamiast jak zwykle c(t) \n",
    "    nB = y[1]\n",
    "    nC = y[2]\n",
    "    V = y[3]               # czwarta zmienna zależna od czasu\n",
    "\n",
    "    cA = nA/V\n",
    "    cB = nB/V\n",
    "    \n",
    "    dnAdt = -k*cA*cB*V     # substrat\n",
    "    dnBdt = FB             # katalizator\n",
    "    dnCdt = k*cA*cB*V      # produkt\n",
    "    dVdt = FlowB           # objętość układu (zmienna w czasie!)\n",
    "\n",
    "    return [dnAdt, dnBdt, dnCdt, dVdt]\n",
    "\n",
    "A0 = 20 #mol/L\n",
    "B0 = 0\n",
    "C0 = 0\n",
    "V0 = 2700 #L\n",
    "\n",
    "nA0 = A0 * V0\n",
    "nB0 = B0 * V0\n",
    "nC0 = C0 * V0\n",
    "\n",
    "initial = [nA0, nB0, nC0, V0]\n",
    "t = numpy.linspace(0, 200,50)\n",
    "results = odeint( model, initial, t )\n",
    "\n",
    "# stężenie c = n/V\n",
    "cA = results[:,0]/results[:,3]\n",
    "cB = results[:,1]/results[:,3]\n",
    "cC = results[:,2]/results[:,3]\n",
    "V = results[:,3]\n",
    "\n",
    "#n\n",
    "nA = results[:,0]\n",
    "nB = results[:,1]\n",
    "nC = results[:,2]\n",
    "\n",
    "\n",
    "plt.plot(t,cA,'bo', label='[a]')\n",
    "plt.plot(t,cB,'ro', label='[b]')\n",
    "plt.plot(t,cC,'co', label='[b]')\n",
    "#plt.plot(t,V,'co', label='V')\n",
    "plt.xlabel('Czas reakcji')\n",
    "plt.ylabel('Stezenie reagentow')\n"
   ]
  },
  {
   "cell_type": "code",
   "execution_count": 2,
   "metadata": {},
   "outputs": [
    {
     "name": "stdout",
     "output_type": "stream",
     "text": [
      "[2700.         2751.02040816 2802.04081633 2853.06122449 2904.08163265\n",
      " 2955.10204082 3006.12244898 3057.14285714 3108.16326531 3159.18367347\n",
      " 3210.20408163 3261.2244898  3312.24489796 3363.26530612 3414.28571429\n",
      " 3465.30612245 3516.32653061 3567.34693878 3618.36734694 3669.3877551\n",
      " 3720.40816327 3771.42857143 3822.44897959 3873.46938776 3924.48979592\n",
      " 3975.51020408 4026.53061224 4077.55102041 4128.57142857 4179.59183673\n",
      " 4230.6122449  4281.63265306 4332.65306122 4383.67346939 4434.69387755\n",
      " 4485.71428571 4536.73469388 4587.75510204 4638.7755102  4689.79591837\n",
      " 4740.81632653 4791.83673469 4842.85714286 4893.87755102 4944.89795918\n",
      " 4995.91836735 5046.93877551 5097.95918367 5148.97959184 5200.        ]\n"
     ]
    },
    {
     "data": {
      "image/png": "[encoded data removed]",
      "text/plain": [
       "<matplotlib.figure.Figure at 0x249c317d828>"
      ]
     },
     "metadata": {},
     "output_type": "display_data"
    }
   ],
   "source": [
    "plt.plot(t,V,'go', label='V')\n",
    "plt.xlabel('Czas reakcji')\n",
    "plt.ylabel('V')\n",
    "\n",
    "print(V)"
   ]
  },
  {
   "cell_type": "code",
   "execution_count": 3,
   "metadata": {},
   "outputs": [
    {
     "data": {
      "text/plain": [
       "Text(0,0.5,'Szybkosc reakcji, mol/L*min')"
      ]
     },
     "execution_count": 3,
     "metadata": {},
     "output_type": "execute_result"
    },
    {
     "data": {
      "image/png": "[encoded data removed]",
      "text/plain": [
       "<matplotlib.figure.Figure at 0x249c474ebe0>"
      ]
     },
     "metadata": {},
     "output_type": "display_data"
    }
   ],
   "source": [
    "# szybkość reakcji w funkcji czasu\n",
    "\n",
    "plt.plot(t,k*cA*cB*V,'ko', label='V')\n",
    "plt.xlabel('Czas reakcji, min')\n",
    "plt.ylabel('Szybkosc reakcji, mol/L*min')"
   ]
  },
  {
   "cell_type": "code",
   "execution_count": 4,
   "metadata": {},
   "outputs": [
    {
     "data": {
      "text/plain": [
       "array([54000., 54000., 54000., 54000., 54000., 54000., 54000., 54000.,\n",
       "       54000., 54000., 54000., 54000., 54000., 54000., 54000., 54000.,\n",
       "       54000., 54000., 54000., 54000., 54000., 54000., 54000., 54000.,\n",
       "       54000., 54000., 54000., 54000., 54000., 54000., 54000., 54000.,\n",
       "       54000., 54000., 54000., 54000., 54000., 54000., 54000., 54000.,\n",
       "       54000., 54000., 54000., 54000., 54000., 54000., 54000., 54000.,\n",
       "       54000., 54000.])"
      ]
     },
     "execution_count": 4,
     "metadata": {},
     "output_type": "execute_result"
    }
   ],
   "source": [
    "nA + nC"
   ]
  },
  {
   "cell_type": "markdown",
   "metadata": {},
   "source": [
    "** Zadanie 1 ** \n",
    "\n",
    "Przekształcić powyższy model reaktora półokresowego w okresowy. Porównać wydajność procesu."
   ]
  }
 ],
 "metadata": {
  "kernelspec": {
   "display_name": "Python 3",
   "language": "python",
   "name": "python3"
  },
  "language_info": {
   "codemirror_mode": {
    "name": "ipython",
    "version": 3
   },
   "file_extension": ".py",
   "mimetype": "text/x-python",
   "name": "python",
   "nbconvert_exporter": "python",
   "pygments_lexer": "ipython3",
   "version": "3.6.4"
  }
 },
 "nbformat": 4,
 "nbformat_minor": 1
}
