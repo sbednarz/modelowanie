{
 "cells": [
  {
   "cell_type": "code",
   "execution_count": 6,
   "metadata": {},
   "outputs": [],
   "source": [
    "%matplotlib inline\n",
    "import matplotlib.pyplot as plt\n",
    "\n",
    "import numpy as np\n",
    "from scipy.integrate import odeint\n"
   ]
  },
  {
   "cell_type": "code",
   "execution_count": 10,
   "metadata": {},
   "outputs": [
    {
     "name": "stdout",
     "output_type": "stream",
     "text": [
      "Time, h\n",
      "[0.         0.12244898 0.24489796 0.36734694 0.48979592 0.6122449\n",
      " 0.73469388 0.85714286 0.97959184 1.10204082 1.2244898  1.34693878\n",
      " 1.46938776 1.59183673 1.71428571 1.83673469 1.95918367 2.08163265\n",
      " 2.20408163 2.32653061 2.44897959 2.57142857 2.69387755 2.81632653\n",
      " 2.93877551 3.06122449 3.18367347 3.30612245 3.42857143 3.55102041\n",
      " 3.67346939 3.79591837 3.91836735 4.04081633 4.16326531 4.28571429\n",
      " 4.40816327 4.53061224 4.65306122 4.7755102  4.89795918 5.02040816\n",
      " 5.14285714 5.26530612 5.3877551  5.51020408 5.63265306 5.75510204\n",
      " 5.87755102 6.        ]\n",
      "V(t), m3\n",
      "[0.1        0.1122449  0.1244898  0.13673469 0.14897959 0.16122449\n",
      " 0.17346939 0.18571429 0.19795918 0.21020408 0.22244898 0.23469388\n",
      " 0.24693878 0.25918367 0.27142857 0.28367347 0.29591837 0.30816327\n",
      " 0.32040816 0.33265306 0.34489796 0.35714286 0.36938776 0.38163265\n",
      " 0.39387755 0.40612245 0.41836735 0.43061224 0.44285714 0.45510204\n",
      " 0.46734694 0.47959184 0.49183673 0.50408163 0.51632653 0.52857143\n",
      " 0.54081633 0.55306122 0.56530612 0.57755102 0.58979592 0.60204082\n",
      " 0.61428571 0.62653061 0.63877551 0.65102041 0.66326531 0.6755102\n",
      " 0.6877551  0.7       ]\n",
      "C(t), kmol/m3\n",
      "[0.33333333 0.2969697  0.26775956 0.24378109 0.22374429 0.20675105\n",
      " 0.19215686 0.17948718 0.16838488 0.15857605 0.14984709 0.14202899\n",
      " 0.13498623 0.12860892 0.12280702 0.117506   0.11264368 0.10816777\n",
      " 0.10403397 0.1002045  0.09664694 0.09333333 0.09023941 0.08734403\n",
      " 0.08462867 0.08207705 0.0796748  0.07740916 0.07526882 0.07324365\n",
      " 0.0713246  0.06950355 0.06777317 0.06612686 0.06455863 0.06306306\n",
      " 0.06163522 0.0602706  0.0589651  0.05771496 0.05651672 0.05536723\n",
      " 0.05426357 0.05320304 0.05218317 0.05120167 0.05025641 0.04934542\n",
      " 0.04846686 0.04761905]\n"
     ]
    },
    {
     "data": {
      "image/png": "[encoded data removed]",
      "text/plain": [
       "<matplotlib.figure.Figure at 0x24ac862da58>"
      ]
     },
     "metadata": {},
     "output_type": "display_data"
    }
   ],
   "source": [
    "# Przykład 1. Rozcieńczanie roztworu\n",
    "# przy założeniu ro=const\n",
    "# Accumulation = In − Out -/+ Rxn\n",
    "# jednostki!\n",
    "\n",
    "def model(y, t):\n",
    "    V = y[0]\n",
    "    dVdt = Fin\n",
    "    return [dVdt]\n",
    "\n",
    "m = 5.0                 # kg\n",
    "M = 150.0               # kg/kmol\n",
    "n = m/M                 # kmol\n",
    "Fin = 0.1               # m3/h\n",
    "t = np.linspace(0, 6)  # 0 - 6h\n",
    "\n",
    "ic = [0.1]                # initial conditions: V at t=0 -> V0=0.1m3 \n",
    "results = odeint(model, ic, t)\n",
    "V = results[:,0]        # instant V\n",
    "C = n/V                 # instant C\n",
    "print(\"Time, h\")\n",
    "print(t)\n",
    "print(\"V(t), m3\")\n",
    "print(V)\n",
    "print(\"C(t), kmol/m3\")\n",
    "print(C)\n",
    "\n",
    "plt.subplot(211)\n",
    "plt.plot(t,V, 'bo-')\n",
    "plt.xlabel('Time, h')\n",
    "plt.ylabel('V, m$^3$')\n",
    "plt.subplot(212)\n",
    "plt.plot(t,C, 'mo-')\n",
    "plt.xlabel('Time, h')\n",
    "plt.ylabel('C, kmole/m$^3$')\n",
    "plt.show()"
   ]
  },
  {
   "cell_type": "code",
   "execution_count": 12,
   "metadata": {},
   "outputs": [
    {
     "name": "stdout",
     "output_type": "stream",
     "text": [
      "Time, min\n",
      "[ 0.          1.2244898   2.44897959  3.67346939  4.89795918  6.12244898\n",
      "  7.34693878  8.57142857  9.79591837 11.02040816 12.24489796 13.46938776\n",
      " 14.69387755 15.91836735 17.14285714 18.36734694 19.59183673 20.81632653\n",
      " 22.04081633 23.26530612 24.48979592 25.71428571 26.93877551 28.16326531\n",
      " 29.3877551  30.6122449  31.83673469 33.06122449 34.28571429 35.51020408\n",
      " 36.73469388 37.95918367 39.18367347 40.40816327 41.63265306 42.85714286\n",
      " 44.08163265 45.30612245 46.53061224 47.75510204 48.97959184 50.20408163\n",
      " 51.42857143 52.65306122 53.87755102 55.10204082 56.32653061 57.55102041\n",
      " 58.7755102  60.        ]\n",
      "V(t), L\n",
      "[  0.          11.02040816  22.04081633  33.06122449  44.08163265\n",
      "  55.10204082  66.12244898  77.14285714  88.16326531  99.18367347\n",
      " 110.20408163 121.2244898  132.24489796 143.26530612 154.28571429\n",
      " 165.30612245 176.32653061 187.34693878 198.36734694 209.3877551\n",
      " 220.40816327 231.42857143 242.44897959 253.46938776 264.48979592\n",
      " 275.51020408 286.53061224 297.55102041 308.57142857 319.59183673\n",
      " 330.6122449  341.63265306 352.65306122 363.67346939 374.69387755\n",
      " 385.71428571 396.73469388 407.75510204 418.7755102  429.79591837\n",
      " 440.81632653 451.83673469 462.85714286 473.87755102 484.89795918\n",
      " 495.91836735 506.93877551 517.95918367 528.97959184 540.        ]\n"
     ]
    },
    {
     "data": {
      "image/png": "[encoded data removed]",
      "text/plain": [
       "<matplotlib.figure.Figure at 0x24ac86e7b70>"
      ]
     },
     "metadata": {},
     "output_type": "display_data"
    }
   ],
   "source": [
    "# Przykład 2. \n",
    "#  napełnianie + opróżnianie zbiornika \n",
    "#  założenie ro = const\n",
    "#  Accumulation = In − Out -/+ Rxn\n",
    "\n",
    "def model(y, t):\n",
    "    V = y[0]\n",
    "    dVdt = Fin - Fout\n",
    "    return [dVdt]\n",
    "\n",
    "Fin = 10 #L/min\n",
    "Fout = 1 #L/min\n",
    "t = np.linspace(0,60) # 0 - 60 min\n",
    "\n",
    "ic = [0] # initial conditions: V at t=0 -> V0=0 \n",
    "\n",
    "results = odeint(model, ic, t)\n",
    "V = results[:,0]\n",
    "print(\"Time, min\")\n",
    "print(t)\n",
    "print(\"V(t), L\")\n",
    "print(V) # V(t)\n",
    "\n",
    "plt.plot(t,V, 'b.')\n",
    "plt.xlabel('Time, min')\n",
    "plt.ylabel('V, L')\n",
    "plt.show()\n"
   ]
  },
  {
   "cell_type": "code",
   "execution_count": 27,
   "metadata": {},
   "outputs": [
    {
     "name": "stdout",
     "output_type": "stream",
     "text": [
      "Time, min\n",
      "[  0.          12.24489796  24.48979592  36.73469388  48.97959184\n",
      "  61.2244898   73.46938776  85.71428571  97.95918367 110.20408163\n",
      " 122.44897959 134.69387755 146.93877551 159.18367347 171.42857143\n",
      " 183.67346939 195.91836735 208.16326531 220.40816327 232.65306122\n",
      " 244.89795918 257.14285714 269.3877551  281.63265306 293.87755102\n",
      " 306.12244898 318.36734694 330.6122449  342.85714286 355.10204082\n",
      " 367.34693878 379.59183673 391.83673469 404.08163265 416.32653061\n",
      " 428.57142857 440.81632653 453.06122449 465.30612245 477.55102041\n",
      " 489.79591837 502.04081633 514.28571429 526.53061224 538.7755102\n",
      " 551.02040816 563.26530612 575.51020408 587.75510204 600.        ]\n",
      "V(t), L\n",
      "[1.         1.12244898 1.24489796 1.36734694 1.48979592 1.6122449\n",
      " 1.73469388 1.85714286 1.97959184 2.10204082 2.2244898  2.34693878\n",
      " 2.46938776 2.59183673 2.71428571 2.83673469 2.95918367 3.08163265\n",
      " 3.20408163 3.32653061 3.44897959 3.57142857 3.69387755 3.81632653\n",
      " 3.93877551 4.06122449 4.18367347 4.30612245 4.42857143 4.55102041\n",
      " 4.67346939 4.79591837 4.91836735 5.04081633 5.16326531 5.28571429\n",
      " 5.40816327 5.53061224 5.65306122 5.7755102  5.89795918 6.02040816\n",
      " 6.14285714 6.26530612 6.3877551  6.51020408 6.63265306 6.75510204\n",
      " 6.87755102 7.        ]\n"
     ]
    },
    {
     "data": {
      "image/png": "[encoded data removed]",
      "text/plain": [
       "<matplotlib.figure.Figure at 0x24ac850f6a0>"
      ]
     },
     "metadata": {},
     "output_type": "display_data"
    }
   ],
   "source": [
    "# Przykład 3. \n",
    "#  napełnianie rozpuszczalnikiem (Fin) + reakcja\n",
    "#  w zbiorniku zachodzi reakcja: A -> B, k\n",
    "#  założenie ro = const\n",
    "#  Accumulation = In − Out -/+ Rxn\n",
    "\n",
    "def model(y, t):\n",
    "                      # funkcje czasu\n",
    "    V = y[0]          # ponieważ V=f(t), zamiast c[mol/L] => n[mol]\n",
    "    nA = y[1]\n",
    "    nB = y[2]\n",
    "    \n",
    "    # chwilowe stężenia dla chwilowej objętości\n",
    "    cA = nA/V\n",
    "    cB = nB/V\n",
    "    \n",
    "    #model kinetyczny - UWAGA! ilości moli\n",
    "    # spr. jednoski\n",
    "    dnAdt = -k*cA*V\n",
    "    dnBdt = k*cA*V\n",
    "    dVdt = Fin\n",
    "    return [dVdt, dnAdt, dnBdt]\n",
    "\n",
    "Fin = 0.01 #L/s\n",
    "k = 1e-2 #1/s\n",
    "t = np.linspace(0,600) # 0 - 600 s\n",
    "\n",
    "V0 = 1 #L\n",
    "nA0 = 1 #mol\n",
    "nB0 = 0 #mol\n",
    "\n",
    "results = odeint(model, [V0, nA0, nB0], t)\n",
    "V = results[:,0]\n",
    "nA = results[:,1]\n",
    "nB = results[:,2]\n",
    "\n",
    "cA = nA/V\n",
    "cB = nB/V\n",
    "\n",
    "\n",
    "print(\"Time, min\")\n",
    "print(t)\n",
    "print(\"V(t), L\")\n",
    "print(V) # V(t)\n",
    "\n",
    "#plt.plot(t,V, 'r.')\n",
    "plt.plot(t,cA, 'g.')\n",
    "plt.plot(t,cB, 'b.')\n",
    "\n",
    "plt.xlabel('Time, min')\n",
    "plt.ylabel('cA, cB, mol/L')\n",
    "plt.show()\n"
   ]
  },
  {
   "cell_type": "code",
   "execution_count": 28,
   "metadata": {},
   "outputs": [
    {
     "name": "stdout",
     "output_type": "stream",
     "text": [
      "[1. 1. 1. 1. 1. 1. 1. 1. 1. 1. 1. 1. 1. 1. 1. 1. 1. 1. 1. 1. 1. 1. 1. 1.\n",
      " 1. 1. 1. 1. 1. 1. 1. 1. 1. 1. 1. 1. 1. 1. 1. 1. 1. 1. 1. 1. 1. 1. 1. 1.\n",
      " 1. 1.]\n"
     ]
    }
   ],
   "source": [
    "print(nA+nB)"
   ]
  },
  {
   "cell_type": "code",
   "execution_count": null,
   "metadata": {},
   "outputs": [],
   "source": []
  },
  {
   "cell_type": "code",
   "execution_count": null,
   "metadata": {},
   "outputs": [],
   "source": []
  }
 ],
 "metadata": {
  "kernelspec": {
   "display_name": "Python 3",
   "language": "python",
   "name": "python3"
  },
  "language_info": {
   "codemirror_mode": {
    "name": "ipython",
    "version": 3
   },
   "file_extension": ".py",
   "mimetype": "text/x-python",
   "name": "python",
   "nbconvert_exporter": "python",
   "pygments_lexer": "ipython3",
   "version": "3.6.4"
  }
 },
 "nbformat": 4,
 "nbformat_minor": 2
}
