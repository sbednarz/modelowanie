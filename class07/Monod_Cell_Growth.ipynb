{
 "cells": [
  {
   "cell_type": "code",
   "execution_count": 63,
   "metadata": {},
   "outputs": [
    {
     "data": {
      "text/plain": [
       "Text(0,0.5,'Stezenie, g/L')"
      ]
     },
     "execution_count": 63,
     "metadata": {},
     "output_type": "execute_result"
    },
    {
     "data": {
      "image/png": "[encoded data removed]",
      "text/plain": [
       "<matplotlib.figure.Figure at 0x1cc74e76ef0>"
      ]
     },
     "metadata": {},
     "output_type": "display_data"
    }
   ],
   "source": [
    "%matplotlib inline\n",
    "import matplotlib.pyplot as plt\n",
    "\n",
    "import numpy as np\n",
    "from scipy.integrate import odeint\n",
    "\n",
    "# https://www.youtube.com/watch?v=39kf7YdwNOs\n",
    "\n",
    "\n",
    "def model(y, t):\n",
    "    \n",
    "    # stężenie komórek E.coli\n",
    "    Cc = y[0]\n",
    "    # stężenie substratu (glukoza)\n",
    "    Cs = y[1]\n",
    "\n",
    "    mi_max = 1.3 # 1/h\n",
    "    Ks = 2.2e-3 # g/L\n",
    "    \n",
    "    # stała szykości umierania\n",
    "    kd = 0.02 # 1/h\n",
    "    \n",
    "    # 1komórka waży 1ng\n",
    "    \n",
    "    # szybkość wzrostu komórek (model Monoda)\n",
    "    rg = (mi_max*Cc*Cs)/(Ks + Cs)\n",
    "    \n",
    "    # szybkość obumierania komórek\n",
    "    rd = kd*Cc\n",
    "    \n",
    "    #model kinetyczny\n",
    "    dCcdt = rg - rd\n",
    "    dCsdt = -rg\n",
    "    return [dCcdt, dCsdt]\n",
    "\n",
    "\n",
    "# początkowo 10000 komórek/L\n",
    "# 100 g/L glukozy\n",
    "# docelowo 400 000 000 komórek/L\n",
    "\n",
    "Cc0 = 10000 * 1e-9 # g/L biomasy\n",
    "Ccend = 400000000 * 1e-9 # g/L biomasy => 0.4\n",
    "Cs0 = 100 # g/L glukozy\n",
    "\n",
    "initial = [Cc0, Cs0]\n",
    "\n",
    "# czas w godzinach\n",
    "t = numpy.linspace(0, 9)\n",
    "\n",
    "res = odeint( model, initial, t )\n",
    "Cc = res[:,0]\n",
    "Cs = res[:,1]\n",
    "\n",
    "plt.plot(t,Cc,'bo', label='Biomasa')\n",
    "#plt.plot(t,Cs,'ro', label='Glukoza')\n",
    "plt.legend()\n",
    "plt.xlabel('Czas procesu, h')\n",
    "plt.ylabel('Stezenie, g/L')"
   ]
  },
  {
   "cell_type": "code",
   "execution_count": 64,
   "metadata": {},
   "outputs": [
    {
     "data": {
      "text/plain": [
       "array([1.00000000e-05, 1.26557745e-05, 1.60152339e-05, 2.02567928e-05,\n",
       "       2.56292893e-05, 3.24272635e-05, 4.10278606e-05, 5.19105507e-05,\n",
       "       6.56821733e-05, 8.30954701e-05, 1.05128183e-04, 1.33003181e-04,\n",
       "       1.68269140e-04, 2.12872626e-04, 2.69304978e-04, 3.40698280e-04,\n",
       "       4.30991113e-04, 5.45215323e-04, 6.89721808e-04, 8.72526532e-04,\n",
       "       1.10378224e-03, 1.39632058e-03, 1.76638386e-03, 2.23453698e-03,\n",
       "       2.82676679e-03, 3.57595560e-03, 4.52370585e-03, 5.72264224e-03,\n",
       "       7.23932041e-03, 9.15797583e-03, 1.15851364e-02, 1.46555738e-02,\n",
       "       1.85397765e-02, 2.34533976e-02, 2.96692933e-02, 3.75325940e-02,\n",
       "       4.74799201e-02, 6.00636034e-02, 7.59823392e-02, 9.61200429e-02,\n",
       "       1.21594871e-01, 1.53821330e-01, 1.94588809e-01, 2.46160926e-01,\n",
       "       3.11401268e-01, 3.93932337e-01, 4.98336684e-01, 6.30411437e-01,\n",
       "       7.97490114e-01, 1.00884984e+00])"
      ]
     },
     "execution_count": 64,
     "metadata": {},
     "output_type": "execute_result"
    }
   ],
   "source": [
    "Cc"
   ]
  },
  {
   "cell_type": "code",
   "execution_count": null,
   "metadata": {},
   "outputs": [],
   "source": []
  },
  {
   "cell_type": "code",
   "execution_count": 80,
   "metadata": {},
   "outputs": [
    {
     "name": "stdout",
     "output_type": "stream",
     "text": [
      "8.278278278278279 0.4007582957255633\n"
     ]
    }
   ],
   "source": [
    "# inny sposób rozwiązania ...\n",
    "\n",
    "initial = [Cc0, Cs0]\n",
    "\n",
    "\n",
    "time_range = np.linspace(0,10,1000)\n",
    "for t in time_range:\n",
    "    \n",
    "    res = odeint( model, initial, [0,t])\n",
    "    Cc = res[1,0]\n",
    "    Cs = res[1,1]\n",
    "    if np.abs(Cc-0.4)<0.001:\n",
    "        print(t, Cc)"
   ]
  },
  {
   "cell_type": "code",
   "execution_count": null,
   "metadata": {},
   "outputs": [],
   "source": []
  }
 ],
 "metadata": {
  "kernelspec": {
   "display_name": "Python 3",
   "language": "python",
   "name": "python3"
  },
  "language_info": {
   "codemirror_mode": {
    "name": "ipython",
    "version": 3
   },
   "file_extension": ".py",
   "mimetype": "text/x-python",
   "name": "python",
   "nbconvert_exporter": "python",
   "pygments_lexer": "ipython3",
   "version": "3.6.4"
  }
 },
 "nbformat": 4,
 "nbformat_minor": 2
}
