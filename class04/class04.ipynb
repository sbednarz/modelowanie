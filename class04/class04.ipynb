{
 "cells": [
  {
   "cell_type": "markdown",
   "metadata": {},
   "source": [
    "## Bilanse masowe cz. 2 (rozwiązywanie równań i układów równań)\n",
    "\n",
    "Literatura:\n",
    "\n",
    "[S2013] Ricardo Simpson, Sudhir K. Sastry, Chemical and Bioprocess Engineering, Springer-Verlag, 2013\n",
    "\n",
    "[H2012] David M. Himmelblau, James B. Riggs, Basic Principles and Calculations in Chemical Engineering, Prentice Hall, 2012\n",
    "\n",
    "[K2005] Stanisław Kucharski, Józef Głowiński, Podstawy obliczeń projektowych w technologii chemicznej, Oficyna Wyd. Politechniki Wrocławskiej, 2005"
   ]
  },
  {
   "cell_type": "markdown",
   "metadata": {},
   "source": [
    "### Przykład 04-01\n",
    "\n",
    "Roztwór wodny metanolu zawierający 20% w/w MeOH (1) rozcieńcza się w mieszalniku wodą (2) w celu otrzymania roztworu MeOH 5% w/w (3). Sporządzić bilans mieszalnika wiedząc, że natężenie strumienia (1) F1 = 1234 kg/h.\n",
    "\n",
    "<img src=\"./04-01.svg\" />\n"
   ]
  },
  {
   "cell_type": "code",
   "execution_count": 1,
   "metadata": {
    "collapsed": false
   },
   "outputs": [
    {
     "name": "stdout",
     "output_type": "stream",
     "text": [
      "Wynik: xH2O w (1) = 0.80, F2 = 3702.00 kg/h, F3 = 4936.00 kg/h, xH2O w (3) = 0.95\n"
     ]
    }
   ],
   "source": [
    "from scipy.optimize import fsolve\n",
    "\n",
    "F1 = 1234 #kg/h\n",
    "x1MeOH = 0.2\n",
    "\n",
    "x2MeOH = 0\n",
    "x2H2O = 1\n",
    "\n",
    "x3MeOH = 0.05\n",
    "\n",
    "\n",
    "def model(X):\n",
    "    x1H2O, F2, F3, x3H2O = X\n",
    "    \n",
    "    eq1 = F1 + F2 - F3                             # bilans strumieni\n",
    "    eq2 = x1MeOH * F1 + x2MeOH * F2 - x3MeOH * F3  # bilans MeOH\n",
    "    eq3 = x1MeOH + x1H2O -1                        # z definicji ułamka masowego\n",
    "    eq4 = x3MeOH + x3H2O -1                        # z definicji ułamka masowego\n",
    "    \n",
    "    return [eq1, eq2, eq3, eq4]\n",
    "\n",
    "\n",
    "guess = [0.1, 100, 100, 0.1]\n",
    "\n",
    "x1H2O, F2, F3, x3H2O = fsolve(model, guess)\n",
    "# Uwaga. Model jest układem równań liniowych więc też może być też użyta funkcja linalg.solve\n",
    "\n",
    "\n",
    "print \"Wynik: xH2O w (1) = {0:.2f}, F2 = {1:.2f} kg/h, F3 = {2:.2f} kg/h, xH2O w (3) = {3:.2f}\".format(x1H2O, F2, F3, x3H2O)\n"
   ]
  },
  {
   "cell_type": "markdown",
   "metadata": {},
   "source": [
    "### Przykład 04-02\n",
    "\n",
    "\n",
    "100 kg/h granulatu poliamidu 6 jest poddawane procesowi ciągłego suszenia w warunkach stacjonarnych, podczas którego zawartość wilgoci w surowcu zmniejsza się od  3% do 0.13%. Jaką ilość suchego granulatu się otrzymuje? Jaką ilość wody usuwa się w tym procesie?\n",
    "\n",
    "<img src=\"04-02.svg\" />"
   ]
  },
  {
   "cell_type": "code",
   "execution_count": 2,
   "metadata": {
    "collapsed": false
   },
   "outputs": [
    {
     "name": "stdout",
     "output_type": "stream",
     "text": [
      "Wynik: ilość suchego granulatu F2 = 97.13 kg/h, ilość wilgoci F3 = 2.87 kg/h.\n"
     ]
    }
   ],
   "source": [
    "F1 = 100 #kg/h\n",
    "\n",
    "x1H2O = 0.03   #3%\n",
    "x2H2O = 0.0013 #0.13%\n",
    "\n",
    "x1PA6 = 1 - x1H2O\n",
    "x2PA6 = 1 - x2H2O\n",
    "\n",
    "def model(X):\n",
    "    F2, F3 = X\n",
    "    eq1 = x1H2O * F1 - x2H2O * F2 - 1*F3\n",
    "    eq2 = F1 - F2 - F3\n",
    "    return [eq1, eq2]\n",
    "\n",
    "F2 = 1\n",
    "F3 = 1\n",
    "\n",
    "guess = [F2, F3]\n",
    "\n",
    "# model jest układem równań liniowych może być też użyta funkcja linalg.solve\n",
    "F2, F3 = fsolve(model, guess)\n",
    "\n",
    "print \"Wynik: ilość suchego granulatu F2 = {0:.2f} kg/h, ilość wilgoci F3 = {1:.2f} kg/h.\".format(F2, F3)"
   ]
  },
  {
   "cell_type": "markdown",
   "metadata": {},
   "source": [
    "### Przykład 04-03\n",
    "\n",
    "W celu rozdzielenia mieszaniny wody i acetonu zastosowano destylację.\n",
    "Obliczyć natężenia strumieni destylatu i cieczy wyczerpanej dla układu przedstawionego na rysunku poniżej.\n",
    "\n",
    "\n",
    "<img src=\"04-03.svg\" />\n"
   ]
  },
  {
   "cell_type": "code",
   "execution_count": 3,
   "metadata": {
    "collapsed": false
   },
   "outputs": [
    {
     "name": "stdout",
     "output_type": "stream",
     "text": [
      "Ilość destylatu F2 = 0.48 kmol/h, ilość cieczy wyczerpanej F3 = 19.52 kmol/h.\n"
     ]
    }
   ],
   "source": [
    "F1 = 20 #kmol/h\n",
    "\n",
    "x1a = 2.0/100\n",
    "x2a = 80.0/100\n",
    "x3a = 0.08/100\n",
    "\n",
    "\n",
    "def model(X):\n",
    "    F2, F3 = X\n",
    "    eq1 = F1 - F2 - F3\n",
    "    eq2 = x1a * F1 - x2a * F2 - x3a * F3\n",
    "    return [eq1, eq2]\n",
    "\n",
    "F2 = 1\n",
    "F3 = 1\n",
    "\n",
    "guess = [F2, F3]\n",
    "\n",
    "# model jest układem równań liniowych może być też użyta funkcja linalg.solve\n",
    "F2, F3 = fsolve(model, guess)\n",
    "\n",
    "print \"Ilość destylatu F2 = {0:.2f} kmol/h, ilość cieczy wyczerpanej F3 = {1:.2f} kmol/h.\".format(F2, F3)"
   ]
  },
  {
   "cell_type": "markdown",
   "metadata": {},
   "source": [
    "### Przykład 04-04 \n",
    "\n",
    "Proces zagęszczania soku pomidorowego jest prowadzony w wyparce pracującej w trybie ciągłym.\n",
    "Strumień surowca przed zagęszczeniem jest rozdzielany na dwa strumienie, a następnie łączony.\n",
    "Proces prowadzony jest przy natężeniu 1000 kg/h surowca (6% w/w suchej masy) Strumień boczny stanowi 12% strumienia zasilającego. Wymagane stężenie koncentratu wynosi 30% w/w suchej masy. Jaką ilość koncentratu się uzyska, jakie jest stężenie soku opuszczającego wyparkę?\n",
    "\n",
    "Wg [S2013 p.199 no.19]\n",
    "\n",
    "\n",
    "<img src=\"04-04.svg\" />"
   ]
  },
  {
   "cell_type": "code",
   "execution_count": 4,
   "metadata": {
    "collapsed": false
   },
   "outputs": [
    {
     "name": "stdout",
     "output_type": "stream",
     "text": [
      "Natężenie strumienia koncentratu wynosi: F2=200.00kg/h,\n",
      "natomast stężenie koncentratu opuszczającego wyparkę wynosi: 66.00% w/w\n"
     ]
    },
    {
     "name": "stderr",
     "output_type": "stream",
     "text": [
      "/home/notebook/anaconda/lib/python2.7/site-packages/scipy/optimize/minpack.py:237: RuntimeWarning: The iteration is not making good progress, as measured by the \n",
      "  improvement from the last ten iterations.\n",
      "  warnings.warn(msg, RuntimeWarning)\n"
     ]
    }
   ],
   "source": [
    "F1 = 1000 #kg/h\n",
    "x1 = 0.06 # 6% w/w solid\n",
    "\n",
    "F3 = 0.12*F1 # 12% F1\n",
    "x3 = x1\n",
    "\n",
    "x4 = 0\n",
    "\n",
    "x2 = 0.3\n",
    "\n",
    "# F2 = ?\n",
    "# F5 = ?\n",
    "# x5= ?\n",
    "# F4\n",
    "\n",
    "\n",
    "def model(X):\n",
    "    F2, F5, x5, F4 = X\n",
    "    \n",
    "    eq1 = F1 - F4 - F2                       # ogólny bilans strumieni\n",
    "    eq2 = F1 * x1 - F5 * x5 - x3*F3          # bilans s.m. (suchej masy)\n",
    "    eq3 = F2 - F3 - F5                       # bilans mieszalnika\n",
    "    eq4 = F1 * (1-x1) - F4 - F2 * (1-x2)     # bilans wody\n",
    "    \n",
    "    return [eq1, eq2, eq3, eq4]\n",
    "\n",
    "F2 = 100\n",
    "F5 = 100\n",
    "x5 = 0.5\n",
    "F4 = 100\n",
    "\n",
    "guess = [F2, F5, x5, F4]\n",
    "\n",
    "# model jest układem równań liniowych może być też użyta funkcja linalg.solve\n",
    "F2, F5, x5, F4 = fsolve(model, guess)\n",
    "\n",
    "print(\"Natężenie strumienia koncentratu wynosi: F2={0:.2f}kg/h,\".format(F2))\n",
    "print(\"natomast stężenie koncentratu opuszczającego wyparkę wynosi: {0:.2f}% w/w\".format(x5*100))\n"
   ]
  }
 ],
 "metadata": {
  "kernelspec": {
   "display_name": "Python 2",
   "language": "python",
   "name": "python2"
  },
  "language_info": {
   "codemirror_mode": {
    "name": "ipython",
    "version": 2
   },
   "file_extension": ".py",
   "mimetype": "text/x-python",
   "name": "python",
   "nbconvert_exporter": "python",
   "pygments_lexer": "ipython2",
   "version": "2.7.10"
  }
 },
 "nbformat": 4,
 "nbformat_minor": 0
}
