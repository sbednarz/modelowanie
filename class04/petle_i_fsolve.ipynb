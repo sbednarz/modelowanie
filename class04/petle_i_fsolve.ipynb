{
 "cells": [
  {
   "cell_type": "markdown",
   "metadata": {},
   "source": [
    "### Model 1 - rozwiązanie dla jednego zestawu parametrów"
   ]
  },
  {
   "cell_type": "code",
   "execution_count": 28,
   "metadata": {},
   "outputs": [
    {
     "name": "stdout",
     "output_type": "stream",
     "text": [
      "Wynik: xH2O w (1) = 0.80, F2 = 3702.00 kg/h, F3 = 4936.00 kg/h, xH2O w (3) = 0.95\n"
     ]
    }
   ],
   "source": [
    "from scipy.optimize import fsolve\n",
    "\n",
    "F1 = 1234 #kg/h\n",
    "x1MeOH = 0.2\n",
    "x2MeOH = 0\n",
    "x2H2O = 1\n",
    "x3MeOH = 0.05\n",
    "\n",
    "\n",
    "def model1(X):\n",
    "    x1H2O, F2, F3, x3H2O = X\n",
    "    \n",
    "    eq1 = F1 + F2 - F3                             # bilans strumieni\n",
    "    eq2 = x1MeOH * F1 + x2MeOH * F2 - x3MeOH * F3  # bilans MeOH\n",
    "    eq3 = x1MeOH + x1H2O -1                        # z definicji ułamka masowego\n",
    "    eq4 = x3MeOH + x3H2O -1                        # z definicji ułamka masowego\n",
    "    \n",
    "    return [eq1, eq2, eq3, eq4]\n",
    "\n",
    "\n",
    "guess = [0.1, 100, 100, 0.1]\n",
    "\n",
    "x1H2O, F2, F3, x3H2O = fsolve(model1, guess)\n",
    "print(\"Wynik: xH2O w (1) = {:.2f}, F2 = {:.2f} kg/h, F3 = {:.2f} kg/h, xH2O w (3) = {:.2f}\".format(x1H2O, F2, F3, x3H2O))"
   ]
  },
  {
   "cell_type": "markdown",
   "metadata": {},
   "source": [
    "### Model 2 - rozwiązania dla zmiennego parametru"
   ]
  },
  {
   "cell_type": "code",
   "execution_count": 29,
   "metadata": {},
   "outputs": [
    {
     "name": "stdout",
     "output_type": "stream",
     "text": [
      "Wynik dla F1=12.34: xH2O(1)=0.80, F2=37.02kg/h, F3 = 49.36kg/h, xH2O(3)=0.95\n",
      "Wynik dla F1=123.40: xH2O(1)=0.80, F2=370.20kg/h, F3 = 493.60kg/h, xH2O(3)=0.95\n",
      "Wynik dla F1=1234.00: xH2O(1)=0.80, F2=3702.00kg/h, F3 = 4936.00kg/h, xH2O(3)=0.95\n",
      "Wynik dla F1=12340.00: xH2O(1)=0.80, F2=37020.00kg/h, F3 = 49360.00kg/h, xH2O(3)=0.95\n"
     ]
    }
   ],
   "source": [
    "from scipy.optimize import fsolve\n",
    "\n",
    "zestaw_F1 = [12.34, 123.4, 1234, 12340] #kg/h\n",
    "x1MeOH = 0.2\n",
    "x2MeOH = 0\n",
    "x2H2O = 1\n",
    "x3MeOH = 0.05\n",
    "\n",
    "\n",
    "def model2(X, F1):                                 # model przyjmuje dwa argumenty: niewiadome i parametr zmieniany w pętli\n",
    "    x1H2O, F2, F3, x3H2O = X\n",
    "    \n",
    "    eq1 = F1 + F2 - F3                             # bilans strumieni\n",
    "    eq2 = x1MeOH * F1 + x2MeOH * F2 - x3MeOH * F3  # bilans MeOH\n",
    "    eq3 = x1MeOH + x1H2O -1                        # z definicji ułamka masowego\n",
    "    eq4 = x3MeOH + x3H2O -1                        # z definicji ułamka masowego\n",
    "    \n",
    "    return [eq1, eq2, eq3, eq4]\n",
    "\n",
    "\n",
    "\n",
    "\n",
    "for F1 in zestaw_F1:                                  # pobieranie kolejnych wartości parametru F1 z listy\n",
    "    guess = [0.1, 100, 100, 0.1]\n",
    "    x1H2O, F2, F3, x3H2O = fsolve(model2, guess, F1)  # obliczenia: model2, guess, parametr\n",
    "    print(\"Wynik dla F1={0:.2f}: xH2O(1)={1:.2f}, F2={2:.2f}kg/h, F3 = {3:.2f}kg/h, xH2O(3)={4:.2f}\".format(F1, x1H2O, F2, F3, x3H2O))\n",
    "    \n",
    " "
   ]
  },
  {
   "cell_type": "markdown",
   "metadata": {},
   "source": [
    "### Dygresja o print()"
   ]
  },
  {
   "cell_type": "code",
   "execution_count": 38,
   "metadata": {},
   "outputs": [],
   "source": [
    "a=-12.43948\n",
    "b=1.467e-5"
   ]
  },
  {
   "cell_type": "code",
   "execution_count": 39,
   "metadata": {},
   "outputs": [
    {
     "name": "stdout",
     "output_type": "stream",
     "text": [
      "-12.43948\n",
      "1.467e-05\n"
     ]
    }
   ],
   "source": [
    "print(a)\n",
    "print(b)"
   ]
  },
  {
   "cell_type": "code",
   "execution_count": 40,
   "metadata": {},
   "outputs": [
    {
     "name": "stdout",
     "output_type": "stream",
     "text": [
      "a= -12.43948\n",
      "b= 1.467e-05\n"
     ]
    }
   ],
   "source": [
    "print(\"a=\",a)\n",
    "print(\"b=\",b)\n"
   ]
  },
  {
   "cell_type": "code",
   "execution_count": 41,
   "metadata": {},
   "outputs": [
    {
     "name": "stdout",
     "output_type": "stream",
     "text": [
      "a=-12.44\n",
      "b=0.00\n"
     ]
    }
   ],
   "source": [
    "print(\"a={0:.2f}\".format(a))\n",
    "print(\"b={0:.2f}\".format(b))\n"
   ]
  },
  {
   "cell_type": "code",
   "execution_count": 43,
   "metadata": {},
   "outputs": [
    {
     "name": "stdout",
     "output_type": "stream",
     "text": [
      "a=-12.4394800\n",
      "b=0.0000147\n"
     ]
    }
   ],
   "source": [
    "print(\"a={0:.7f}\".format(a))\n",
    "print(\"b={0:.7f}\".format(b))\n"
   ]
  },
  {
   "cell_type": "code",
   "execution_count": 45,
   "metadata": {},
   "outputs": [
    {
     "name": "stdout",
     "output_type": "stream",
     "text": [
      "a=-1.24e+01\n",
      "b=1.47e-05\n"
     ]
    }
   ],
   "source": [
    "print(\"a={0:.2e}\".format(a))\n",
    "print(\"b={0:.2e}\".format(b))\n"
   ]
  },
  {
   "cell_type": "code",
   "execution_count": 48,
   "metadata": {},
   "outputs": [
    {
     "name": "stdout",
     "output_type": "stream",
     "text": [
      "a=-12.44 b=1.47e-05\n"
     ]
    }
   ],
   "source": [
    "print(\"a={0:.2f} b={1:.2e}\".format(a,b))"
   ]
  },
  {
   "cell_type": "code",
   "execution_count": 50,
   "metadata": {},
   "outputs": [
    {
     "name": "stdout",
     "output_type": "stream",
     "text": [
      "b=1.47e-05 a=-12.44\n"
     ]
    }
   ],
   "source": [
    "print(\"b={1:.2e} a={0:.2f}\".format(a,b))"
   ]
  },
  {
   "cell_type": "code",
   "execution_count": null,
   "metadata": {},
   "outputs": [],
   "source": []
  }
 ],
 "metadata": {
  "kernelspec": {
   "display_name": "Python 3",
   "language": "python",
   "name": "python3"
  },
  "language_info": {
   "codemirror_mode": {
    "name": "ipython",
    "version": 3
   },
   "file_extension": ".py",
   "mimetype": "text/x-python",
   "name": "python",
   "nbconvert_exporter": "python",
   "pygments_lexer": "ipython3",
   "version": "3.6.5"
  }
 },
 "nbformat": 4,
 "nbformat_minor": 2
}
