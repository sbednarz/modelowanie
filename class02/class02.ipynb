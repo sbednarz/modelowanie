{
 "cells": [
  {
   "cell_type": "markdown",
   "metadata": {},
   "source": [
    "## Wprowadzenie do Pythona\n",
    "\n",
    "### Przykład 0. Start"
   ]
  },
  {
   "cell_type": "code",
   "execution_count": 1,
   "metadata": {
    "collapsed": false
   },
   "outputs": [
    {
     "name": "stdout",
     "output_type": "stream",
     "text": [
      "123\n",
      "123.4\n",
      "1e-06\n"
     ]
    }
   ],
   "source": [
    "# zmienne liczbowe (całkowite, zmiennoprzecinkowe)\n",
    "\n",
    "x = 123\n",
    "x2 = 123.4\n",
    "x3 = 1e-6\n",
    "\n",
    "# wyświetlanie zawartości zmiennych\n",
    "print(x)\n",
    "print(x2)\n",
    "print(x3)\n"
   ]
  },
  {
   "cell_type": "markdown",
   "metadata": {},
   "source": [
    "Zmienne typu 'string' (napis):"
   ]
  },
  {
   "cell_type": "code",
   "execution_count": 96,
   "metadata": {
    "collapsed": false
   },
   "outputs": [
    {
     "name": "stdout",
     "output_type": "stream",
     "text": [
      "Napis\n"
     ]
    }
   ],
   "source": [
    "s1 = \"Napis\"\n",
    "print s1"
   ]
  },
  {
   "cell_type": "markdown",
   "metadata": {},
   "source": [
    "Funkcja *format* [więcej informacji](http://www.python-course.eu/python3_formatted_output.php)"
   ]
  },
  {
   "cell_type": "code",
   "execution_count": 101,
   "metadata": {
    "collapsed": false
   },
   "outputs": [
    {
     "name": "stdout",
     "output_type": "stream",
     "text": [
      "x ma wartość 123.00, natomiast x2 = 1.2340e+02.\n"
     ]
    }
   ],
   "source": [
    "print(\"x ma wartość {0:.2f}, natomiast x2 = {1:.4e}.\".format(x, x2))"
   ]
  },
  {
   "cell_type": "markdown",
   "metadata": {},
   "source": [
    "\n",
    "\n",
    "{0}, {1}, ... wartości zmiennych nr 0, 1 ...\n",
    "\n",
    "{0:.2f} ---> float zaokrąglony do 2 miejsc po przecinku\n",
    "\n",
    "{0:.4e} ---> float zaokrąglony do 4 miejsc po przecinku i wyświetlony w fromacie naukowym (np. 1.0000e-3)"
   ]
  },
  {
   "cell_type": "markdown",
   "metadata": {},
   "source": [
    "### Przykład 1. "
   ]
  },
  {
   "cell_type": "code",
   "execution_count": 9,
   "metadata": {
    "collapsed": false
   },
   "outputs": [
    {
     "data": {
      "text/plain": [
       "<matplotlib.text.Text at 0x7febf67c0410>"
      ]
     },
     "execution_count": 9,
     "metadata": {},
     "output_type": "execute_result"
    },
    {
     "data": {
      "image/png": "[encoded data removed]",
      "text/plain": [
       "<matplotlib.figure.Figure at 0x7febf696a1d0>"
      ]
     },
     "metadata": {},
     "output_type": "display_data"
    }
   ],
   "source": [
    "%matplotlib inline\n",
    "\n",
    "import matplotlib.pyplot as plt\n",
    "\n",
    "# dane - kolumna x\n",
    "xx=[1,2,3,4]\n",
    "#dane - kolumna y\n",
    "yy=[4,6,7,8]\n",
    "\n",
    "plt.plot(xx,yy,'o-')\n",
    "plt.xlabel('xxxx')\n",
    "plt.ylabel('xxxx')\n",
    "plt.title('Pierwszy wykres')\n"
   ]
  },
  {
   "cell_type": "markdown",
   "metadata": {},
   "source": [
    "**Ćwiczenie 1**\n",
    "* Zmień sposób formatowania wykresu\n",
    "* Zmień opisy na wykresie\n",
    "* Dodaj parę punktów do wykresu\n",
    "\n"
   ]
  },
  {
   "cell_type": "markdown",
   "metadata": {},
   "source": [
    "### Przykład 2."
   ]
  },
  {
   "cell_type": "code",
   "execution_count": 13,
   "metadata": {
    "collapsed": false
   },
   "outputs": [
    {
     "data": {
      "text/plain": [
       "[<matplotlib.lines.Line2D at 0x7febf6634610>]"
      ]
     },
     "execution_count": 13,
     "metadata": {},
     "output_type": "execute_result"
    },
    {
     "data": {
      "image/png": "[encoded data removed]",
      "text/plain": [
       "<matplotlib.figure.Figure at 0x7febf6879f90>"
      ]
     },
     "metadata": {},
     "output_type": "display_data"
    }
   ],
   "source": [
    "%matplotlib inline\n",
    "\n",
    "import matplotlib.pyplot as plt\n",
    "import numpy as np\n",
    "\n",
    "#zakres dla 'x'\n",
    "start = 1\n",
    "end = 20\n",
    "#ilość punktów na wykresie\n",
    "N = 30\n",
    "\n",
    "# xx to wektor \n",
    "xx = np.linspace(start, end, N)\n",
    "\n",
    "yy1 = np.log(xx)\n",
    "yy2 = np.log(xx/2)\n",
    "\n",
    "plt.plot(xx,yy1,'.r')\n",
    "plt.plot(xx,yy2,'-g')\n"
   ]
  },
  {
   "cell_type": "markdown",
   "metadata": {},
   "source": [
    "**Ćwiczenie 2**\n",
    "* Wyświetlić zawartość zmiennych xx, yy1, yy2\n",
    "* Narysować na jednym wykresie przebieg funkcji: $f(x)=100 - 100\\exp(-kt)$, dla $t$=0-300 i $k$=5.0e-3 oraz $k$=1.0e-2."
   ]
  },
  {
   "cell_type": "markdown",
   "metadata": {},
   "source": [
    "### Przykład 3. Funkcje i pętle w Pythonie\n",
    "\n",
    "Zdefiniować funkcję, która oblicza stężenie procentowe roztworu z ilości substancji rozpuszczanej i masy wody (rozpuszczalnika).\n",
    "Na przypomnienia (!) stosowne wzory:\n",
    "\n",
    "$$C_p=\\frac{m_s}{m_r}\\times100\\%$$\n",
    "$$m_r = m_s + m_w$$\n",
    "\n"
   ]
  },
  {
   "cell_type": "code",
   "execution_count": 51,
   "metadata": {
    "collapsed": false
   },
   "outputs": [],
   "source": [
    "\n",
    "def oblicz_Cp (ms, mw):\n",
    "    mr = ms + mw\n",
    "    Cp = 100.0*ms/mr # uwaga! dzielenie, float i Python2.0\n",
    "    return Cp\n"
   ]
  },
  {
   "cell_type": "markdown",
   "metadata": {},
   "source": [
    "A teraz test tej funkcji (procedury):"
   ]
  },
  {
   "cell_type": "code",
   "execution_count": 66,
   "metadata": {
    "collapsed": false
   },
   "outputs": [
    {
     "data": {
      "text/plain": [
       "10.0"
      ]
     },
     "execution_count": 66,
     "metadata": {},
     "output_type": "execute_result"
    }
   ],
   "source": [
    "oblicz_Cp(10,90)"
   ]
  },
  {
   "cell_type": "markdown",
   "metadata": {},
   "source": [
    "uwaga na kolejność argumentów:"
   ]
  },
  {
   "cell_type": "code",
   "execution_count": 67,
   "metadata": {
    "collapsed": false
   },
   "outputs": [
    {
     "data": {
      "text/plain": [
       "90.0"
      ]
     },
     "execution_count": 67,
     "metadata": {},
     "output_type": "execute_result"
    }
   ],
   "source": [
    "oblicz_Cp(90,10)"
   ]
  },
  {
   "cell_type": "markdown",
   "metadata": {},
   "source": [
    "Obliczyć $Cp$ dla $m_w$=100g i $m_s$=1, 5, 10, 20, 50, 55, 56, 60g ... w sprytny sposób ;)"
   ]
  },
  {
   "cell_type": "code",
   "execution_count": 72,
   "metadata": {
    "collapsed": false
   },
   "outputs": [
    {
     "name": "stdout",
     "output_type": "stream",
     "text": [
      "[1, 5, 10, 20, 50, 55, 56, 60]\n"
     ]
    }
   ],
   "source": [
    "# Python korzysta z list:\n",
    "zestaw_ms = [1, 5, 10, 20, 50, 55, 56, 60]\n",
    "\n",
    "\n",
    "# print(zestaw_ms)\n",
    "# zestaw_ms\n",
    "\n",
    "print(zestaw_ms)"
   ]
  },
  {
   "cell_type": "code",
   "execution_count": 87,
   "metadata": {
    "collapsed": false
   },
   "outputs": [
    {
     "name": "stdout",
     "output_type": "stream",
     "text": [
      "1\n"
     ]
    }
   ],
   "source": [
    "print(zestaw_ms[0])"
   ]
  },
  {
   "cell_type": "markdown",
   "metadata": {},
   "source": [
    "Wybór zakresu z listy (podzbioru):"
   ]
  },
  {
   "cell_type": "code",
   "execution_count": 74,
   "metadata": {
    "collapsed": false
   },
   "outputs": [
    {
     "name": "stdout",
     "output_type": "stream",
     "text": [
      "[1, 5]\n"
     ]
    }
   ],
   "source": [
    "print(zestaw_ms[0:2])"
   ]
  },
  {
   "cell_type": "code",
   "execution_count": 88,
   "metadata": {
    "collapsed": false
   },
   "outputs": [
    {
     "name": "stdout",
     "output_type": "stream",
     "text": [
      "[10, 20, 50, 55, 56, 60]\n"
     ]
    }
   ],
   "source": [
    "\n",
    "print(zestaw_ms[2:])"
   ]
  },
  {
   "cell_type": "markdown",
   "metadata": {},
   "source": [
    "Pętla for ... in ... :"
   ]
  },
  {
   "cell_type": "code",
   "execution_count": 71,
   "metadata": {
    "collapsed": false
   },
   "outputs": [
    {
     "name": "stdout",
     "output_type": "stream",
     "text": [
      "1\n",
      "5\n",
      "10\n",
      "20\n",
      "50\n",
      "55\n",
      "56\n",
      "60\n"
     ]
    }
   ],
   "source": [
    "for ms in zestaw_ms:    # ważny jest : na końcu linii\n",
    "    print(ms)"
   ]
  },
  {
   "cell_type": "code",
   "execution_count": 70,
   "metadata": {
    "collapsed": false
   },
   "outputs": [
    {
     "name": "stdout",
     "output_type": "stream",
     "text": [
      "0.990099009901\n",
      "4.7619047619\n",
      "9.09090909091\n",
      "16.6666666667\n",
      "33.3333333333\n",
      "35.4838709677\n",
      "35.8974358974\n",
      "37.5\n"
     ]
    }
   ],
   "source": [
    "for ms in zestaw_ms:\n",
    "    print(oblicz_Cp(ms, 100))"
   ]
  },
  {
   "cell_type": "markdown",
   "metadata": {},
   "source": [
    "I bardziej czytelny raport:"
   ]
  },
  {
   "cell_type": "code",
   "execution_count": 103,
   "metadata": {
    "collapsed": false
   },
   "outputs": [
    {
     "name": "stdout",
     "output_type": "stream",
     "text": [
      "Dla ms=1g \t Cp=0.99%\n",
      "Dla ms=5g \t Cp=4.76%\n",
      "Dla ms=10g \t Cp=9.09%\n",
      "Dla ms=20g \t Cp=16.67%\n",
      "Dla ms=50g \t Cp=33.33%\n",
      "Dla ms=55g \t Cp=35.48%\n",
      "Dla ms=56g \t Cp=35.90%\n",
      "Dla ms=60g \t Cp=37.50%\n"
     ]
    }
   ],
   "source": [
    "for ms in zestaw_ms:\n",
    "    Cp = oblicz_Cp(ms, 100)\n",
    "    print( \"Dla ms={0}g \\t Cp={1:.2f}%\".format(ms,Cp) )"
   ]
  },
  {
   "cell_type": "markdown",
   "metadata": {},
   "source": [
    "**Ćwiczenie 3**\n",
    "\n",
    "Popraw kod rysujący wykres z **ćwiczenia 2**, o użycie (definicje) funkcji i o pętle. Utwórz funkcję która rysuje pojedyńczy wykres w zależności od paramatru k. Zbadaj jak zmienia się przebieg funkcji w zależności od stałej k = 1e-4, 2.5e-4, 5e-4, 1e-3, 2e-3"
   ]
  },
  {
   "cell_type": "code",
   "execution_count": null,
   "metadata": {
    "collapsed": true
   },
   "outputs": [],
   "source": []
  }
 ],
 "metadata": {
  "kernelspec": {
   "display_name": "Python 2",
   "language": "python",
   "name": "python2"
  },
  "language_info": {
   "codemirror_mode": {
    "name": "ipython",
    "version": 2
   },
   "file_extension": ".py",
   "mimetype": "text/x-python",
   "name": "python",
   "nbconvert_exporter": "python",
   "pygments_lexer": "ipython2",
   "version": "2.7.10"
  }
 },
 "nbformat": 4,
 "nbformat_minor": 0
}
