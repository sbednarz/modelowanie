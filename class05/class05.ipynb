{
 "cells": [
  {
   "cell_type": "markdown",
   "metadata": {},
   "source": [
    "# Równowagi cz.1\n",
    "\n"
   ]
  },
  {
   "cell_type": "markdown",
   "metadata": {},
   "source": [
    "### Przykład 1\n",
    "\n",
    "Obliczyć skład równowagowy mieszaniny reakcyjnej zawierającej początkowo kwas octowy o stężeniu 3mol/L (K) i etanol o stężeniu 16 mol/L (A) oraz katalityczną ilość $H_2SO_4$ wiedząc, że stała równowagi w warunkach eksperymentu K=4.9.\n",
    "\n",
    "\n",
    "$$ROH + R'COOH \\rightleftharpoons R'COOR + H_2O$$\n",
    "\n",
    "http://pubs.acs.org/doi/pdf/10.1021/ed067p796"
   ]
  },
  {
   "cell_type": "code",
   "execution_count": 158,
   "metadata": {
    "collapsed": false
   },
   "outputs": [
    {
     "name": "stdout",
     "output_type": "stream",
     "text": [
      "Stężenia równowagowe: [EtOH]=13.13mol/L [CH3COOH]=0.13mol/L [CH3COOEt]=2.87mol/L [H2O]=2.87mol/L\n"
     ]
    }
   ],
   "source": [
    "from scipy.optimize import fsolve\n",
    "\n",
    "\n",
    "def model(X):\n",
    "    a, k, e, w = X\n",
    "    K = 4.9\n",
    "    c_k = 3\n",
    "    c_a = 16\n",
    "\n",
    "    #eq1 = (e*w)/(a*k)-K\n",
    "    eq1 = (e*w)-K*(a*k)            #definicja stałej równowagi w postaci przekształconej do iloczynu\n",
    "    eq2 = a + e - c_a               #bilans alkoholu i jego form\n",
    "    eq3 = k + e - c_k               #bilans kwasu i jego form\n",
    "    eq4 = e - w                     #zależność: liczba wiązań estrowych, a ilość wody\n",
    "    return [eq1, eq2, eq3, eq4]\n",
    "\n",
    "\n",
    "a = 1\n",
    "k = 1\n",
    "e = 1\n",
    "w = 1\n",
    "guess = [a, k, e, w]\n",
    "\n",
    "a, k, e, w = fsolve(model, guess)\n",
    "\n",
    "print(\"Stężenia równowagowe: [EtOH]={0:.2f}mol/L [CH3COOH]={1:.2f}mol/L [CH3COOEt]={2:.2f}mol/L [H2O]={3:.2f}mol/L\".format(a, k, e, w))"
   ]
  },
  {
   "cell_type": "markdown",
   "metadata": {},
   "source": [
    "### Zadanie 1\n",
    "\n",
    "Obliczyć skład równowagowy mieszaniny reakcyjnej zawierającej początkowo kwasu octowy o stężeniu 3mol/L (K) i mieszaninę etanolu (E) i propanolu (P) o stężeniu odpowiednio 8 mol/L i 7 mol/L oraz katalityczną ilość $H_2SO_4$ wiedząc, że stała równowagi  tworzenia octanu etylu w warunkach eksperymentu Koe=4.9, natomiast octanu propylu Kop=4.2.\n",
    "\n",
    "\n",
    "$$R'OH + RCOOH \\rightleftharpoons RCOOR' + H_2O$$\n",
    "$$R''OH + RCOOH \\rightleftharpoons RCOOR'' + H_2O$$\n",
    "\n",
    "\n",
    "Sprawdzić poprawność otrzymanych wyników.\n",
    "\n",
    "Odp.: [EtOH]=6.39 [PrOH]=5.76 [CH3COOEt]=1.61 [CH3COOPr]=1.24 [H2O]=2.85 [CH3COOH]=0.15"
   ]
  },
  {
   "cell_type": "code",
   "execution_count": null,
   "metadata": {
    "collapsed": true
   },
   "outputs": [],
   "source": []
  },
  {
   "cell_type": "markdown",
   "metadata": {},
   "source": [
    "### Przykład 2\n",
    "\n",
    "W zbiorniku w temperaturze 723K zmieszano 8.1 mol H2 oraz 2.94 mol I2. Obliczyć skład równowagowy mieszaniny, wiedząc, wartość ułamkowej stałej równowagi w tych warunkach wynosi K=50.403.\n",
    "\n",
    "W celu sprawdzenia wyników, wykonać bilans pierwiastkowy."
   ]
  },
  {
   "cell_type": "code",
   "execution_count": 152,
   "metadata": {
    "collapsed": false
   },
   "outputs": [
    {
     "name": "stdout",
     "output_type": "stream",
     "text": [
      "[H2]=5.280 [I2]=0.120 [HI]=5.641\n"
     ]
    }
   ],
   "source": [
    "from scipy.optimize import fsolve\n",
    "\n",
    "\n",
    "def model(X):\n",
    "    h2, i2, hi = X\n",
    "    K = 50.403\n",
    "    n0_h2 = 8.1\n",
    "    n0_i2 = 2.94\n",
    "\n",
    "    eq1 = hi**2 - K*(h2*i2)    #forma iloczynu\n",
    "    eq2 = h2 + 0.5*hi - n0_h2\n",
    "    eq3 = i2 + 0.5*hi - n0_i2\n",
    "    return [eq1, eq2, eq3]\n",
    "\n",
    "\n",
    "h2 = 1\n",
    "i2 = 1\n",
    "hi = 1\n",
    "guess = [h2, i2, hi]\n",
    "\n",
    "h2, i2, hi = fsolve(model, guess)\n",
    "\n",
    "print(\"[H2]={0:.3f} [I2]={1:.3f} [HI]={2:.3f}\".format(h2, i2, hi))"
   ]
  },
  {
   "cell_type": "markdown",
   "metadata": {},
   "source": [
    "### Przykład 3\n",
    "\n",
    "Przeanalizować zależność stężenia równowagowego octanu etylu od stężenia początkowego kwasu octowego w zakresie 0.1 - 3 mol/L (wykres). Kiedy uzyska się ester najmniej zanieczyszczony kwasem octowym?"
   ]
  },
  {
   "cell_type": "code",
   "execution_count": 153,
   "metadata": {
    "collapsed": false
   },
   "outputs": [
    {
     "data": {
      "image/png": "[encoded data removed]",
      "text/plain": [
       "<matplotlib.figure.Figure at 0x7fdb27f5a250>"
      ]
     },
     "metadata": {},
     "output_type": "display_data"
    },
    {
     "data": {
      "image/png": "[encoded data removed]",
      "text/plain": [
       "<matplotlib.figure.Figure at 0x7fdb27fcdc10>"
      ]
     },
     "metadata": {},
     "output_type": "display_data"
    }
   ],
   "source": [
    "%matplotlib inline\n",
    "import matplotlib.pyplot as plt\n",
    "\n",
    "from scipy.optimize import fsolve\n",
    "\n",
    "def model(X, c_kwasu):   #<<<---- uwaga 2 argumenty w modelu\n",
    "    a, k, e, w = X\n",
    "    K = 4.9\n",
    "    c_k = c_kwasu\n",
    "    c_a = 16\n",
    "\n",
    "    #eq1 = (e*w)/(a*k)-K\n",
    "    eq1 = (e*w)-K*(a*k)            #definicja stałej równowagi w postaci przekształconej do iloczynu\n",
    "    eq2 = a + e - c_a\n",
    "    eq3 = k + e - c_k\n",
    "    eq4 = e - w\n",
    "    return [eq1, eq2, eq3, eq4]\n",
    "\n",
    "\n",
    "a = 1\n",
    "k = 1\n",
    "e = 1\n",
    "w = 1\n",
    "guess = [a, k, e, w]\n",
    "\n",
    "#\n",
    "wynik_c_kwasu=[]\n",
    "wynik_a=[]\n",
    "wynik_k=[]\n",
    "wynik_e=[]\n",
    "wynik_w=[]\n",
    "\n",
    "for c_kwasu in [0.1, 0.2, 0.4, 0.6, 1, 1.2, 1.6, 2, 2.2, 2.4, 2.8, 3]:\n",
    "    a, k, e, w = fsolve(model, guess, c_kwasu) #<<<-- uwaga 3 argumenty w fsolve\n",
    "    wynik_c_kwasu.append(c_kwasu)\n",
    "    wynik_a.append(a)\n",
    "    wynik_k.append(k)\n",
    "    wynik_e.append(e)\n",
    "    wynik_w.append(w)\n",
    "    \n",
    "plt.plot(wynik_c_kwasu, wynik_e, 'bo')\n",
    "plt.xlabel(\"c_kwasu\")\n",
    "plt.ylabel(\"[CH3COOEt]\")\n",
    "plt.show()\n",
    "\n",
    "plt.plot(wynik_c_kwasu, wynik_k, 'ro')\n",
    "plt.xlabel(\"c_kwasu\")\n",
    "plt.ylabel(\"[CH3COOH]\")\n",
    "plt.show()"
   ]
  },
  {
   "cell_type": "markdown",
   "metadata": {},
   "source": [
    "### Przykład 4\n",
    "\n",
    "Obliczyć pH roztworu mocnego kwasu (np. HCl) o stężeniu:\n",
    "\n",
    "a) 0.1 mol/L\n",
    "b) 1e-7 mol/L"
   ]
  },
  {
   "cell_type": "code",
   "execution_count": 154,
   "metadata": {
    "collapsed": false
   },
   "outputs": [
    {
     "name": "stdout",
     "output_type": "stream",
     "text": [
      "Dla c HCl = 1.00e-01    [H]=1.00e-01 [OH]=1.00e-13 [Cl]=1.00e-01\n",
      "pH=1.00\n"
     ]
    }
   ],
   "source": [
    "from scipy.optimize import fsolve\n",
    "from numpy import log10\n",
    "\n",
    "c = 0.1\n",
    "\n",
    "def model(X):\n",
    "    Kw = 1e-14\n",
    "    c_HCL = c\n",
    "    h, oh, cl = X\n",
    "    eq1 = h*oh-Kw            # iloczyn jonowy wody\n",
    "    eq2 = h-cl-oh            # bilans ładunku = warunek elektroobojętności roztworu\n",
    "    eq3 = c_HCL - cl         # bilans masowy jonów chlorkowych\n",
    "    return [eq1, eq2, eq3]\n",
    "\n",
    "h=1e-5\n",
    "oh=1e-5\n",
    "cl=1e-8\n",
    "guess = [h,oh,cl]\n",
    "\n",
    "h,oh,cl = fsolve(model, guess)\n",
    "print(\"Dla c HCl = {3:.2e}    [H]={0:.2e} [OH]={1:.2e} [Cl]={2:.2e}\".format(h, oh, cl, c))\n",
    "pH = -log10(h)\n",
    "print(\"pH={0:.2f}\".format(pH))"
   ]
  },
  {
   "cell_type": "markdown",
   "metadata": {},
   "source": [
    "### Zadanie 2\n",
    "\n",
    "\n",
    "Obliczyć pH wodnego roztworu kwasu akrylowego o stężeniu 1 oraz 0.1 mol/L. pKa = 4.25.\n",
    "\n",
    "\n",
    "$$ RCOOH + H_2O \\rightleftharpoons RCOO^- + H_3O^+$$",
    "\n",
    "\n",
    "Odpowiedź: pH=2.13 (1M) 2.63 (0.1M)\n"
   ]
  },
  {
   "cell_type": "markdown",
   "metadata": {},
   "source": [
    "### Przykład 5\n",
    "\n",
    "Obliczyć pH 0.1M roztworu Tris. pKa=8.07\n",
    "\n",
    "<img src=\"https://upload.wikimedia.org/wikipedia/commons/thumb/8/85/Tris.png/160px-Tris.png\"/>\n",
    "\n",
    "$$ B + H_2O \\rightleftharpoons BH^+ + OH^-, K_b$$"
   ]
  },
  {
   "cell_type": "code",
   "execution_count": 155,
   "metadata": {
    "collapsed": false
   },
   "outputs": [
    {
     "name": "stdout",
     "output_type": "stream",
     "text": [
      "pH=10.53\n"
     ]
    }
   ],
   "source": [
    "from scipy.optimize import fsolve\n",
    "from numpy import log10\n",
    "\n",
    "\n",
    "pKa = 8.07\n",
    "pKb = 14 - pKa\n",
    "Kb = 10**(-pKb)\n",
    "\n",
    "def model(X):\n",
    "    Kw = 1e-14\n",
    "    c_zasada = 0.1\n",
    "    b, bh, h, oh = X\n",
    "    eq1 = h*oh-Kw               # iloczyn jonowy wody\n",
    "    eq2 = bh + h - oh            # bilans ładunku = warunek elektroobojętności roztworu\n",
    "    eq3 = b + bh - c_zasada       # bilans zasady (jej form)\n",
    "    eq4 = bh*oh - Kb*b\n",
    "    return [eq1, eq2, eq3, eq4]\n",
    "\n",
    "\n",
    "\n",
    "# pozmieniać, sprawdzić wpływ guess\n",
    "ha = 1e-2\n",
    "a = 1e-2\n",
    "h = 1e-2\n",
    "oh = 1e-2\n",
    "\n",
    "guess = [ha, a, h, oh]\n",
    "\n",
    "ha, a, h, oh = fsolve(model, guess)\n",
    "pH = -log10(h)\n",
    "print(\"pH={0:.2f}\".format(pH))"
   ]
  }
 ],
 "metadata": {
  "kernelspec": {
   "display_name": "Python 2",
   "language": "python",
   "name": "python2"
  },
  "language_info": {
   "codemirror_mode": {
    "name": "ipython",
    "version": 2
   },
   "file_extension": ".py",
   "mimetype": "text/x-python",
   "name": "python",
   "nbconvert_exporter": "python",
   "pygments_lexer": "ipython2",
   "version": "2.7.10"
  }
 },
 "nbformat": 4,
 "nbformat_minor": 0
}
