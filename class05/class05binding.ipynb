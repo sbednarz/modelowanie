{
 "cells": [
  {
   "cell_type": "markdown",
   "metadata": {},
   "source": [
    "<img src='http://pubs.rsc.org/services/images/RSCpubs.ePlatform.Service.FreeContent.ImageService.svc/ImageService/image/GA?id=B821580D'>"
   ]
  },
  {
   "cell_type": "code",
   "execution_count": 3,
   "metadata": {
    "collapsed": false
   },
   "outputs": [
    {
     "name": "stdout",
     "output_type": "stream",
     "text": [
      "3.45491502813\n"
     ]
    }
   ],
   "source": [
    "\n",
    "# A + B <---> C + D\n",
    "\n",
    "from scipy.optimize import fsolve\n",
    "\n",
    "K = 5\n",
    "\n",
    "a0 = 5\n",
    "k0 = 5\n",
    "\n",
    "def model(X):\n",
    "    a, k, ak, w = X\n",
    "    eq1 = ak*w - K*a*k\n",
    "    eq2 = a0 - a - ak\n",
    "    eq3 = k0 - k - ak\n",
    "    eq4 = ak - w\n",
    "    return [eq1, eq2, eq3, eq4]\n",
    "\n",
    "a=1\n",
    "k=1\n",
    "ak=1\n",
    "w=1\n",
    "guess = [a, k, ak, w]\n",
    "\n",
    "a, k, ak, w = fsolve(model, guess)\n",
    "print(ak)"
   ]
  },
  {
   "cell_type": "markdown",
   "metadata": {},
   "source": [
    "Pętle w Pythonie:"
   ]
  },
  {
   "cell_type": "code",
   "execution_count": 4,
   "metadata": {
    "collapsed": false
   },
   "outputs": [
    {
     "name": "stdout",
     "output_type": "stream",
     "text": [
      "1\n",
      "2\n",
      "3\n",
      "4.5\n"
     ]
    }
   ],
   "source": [
    "for x in [1,2,3,4.5]:\n",
    "    print(x)"
   ]
  },
  {
   "cell_type": "code",
   "execution_count": 29,
   "metadata": {
    "collapsed": false
   },
   "outputs": [
    {
     "name": "stdout",
     "output_type": "stream",
     "text": [
      "10.0\n",
      "20.0\n",
      "30.0\n",
      "40.0\n",
      "50.0\n",
      "60.0\n",
      "70.0\n",
      "80.0\n",
      "90.0\n",
      "100.0\n"
     ]
    }
   ],
   "source": [
    "# x = 10 ... 100 co 10\n",
    "for x in np.linspace(10,100,10):\n",
    "    print(x)"
   ]
  },
  {
   "cell_type": "code",
   "execution_count": 41,
   "metadata": {
    "collapsed": false
   },
   "outputs": [
    {
     "name": "stdout",
     "output_type": "stream",
     "text": [
      "[100.0, 400.0, 900.0, 1600.0, 2500.0, 3600.0, 4900.0, 6400.0, 8100.0, 10000.0]\n"
     ]
    }
   ],
   "source": [
    "# tworzymy pustą listę\n",
    "wyniki = []\n",
    "\n",
    "\n",
    "# x = 10 ... 100 co 10\n",
    "for x in np.linspace(10,100,10):\n",
    "    wyniki.append(x**2)\n",
    "\n",
    "print(wyniki)\n",
    "    "
   ]
  },
  {
   "cell_type": "markdown",
   "metadata": {},
   "source": [
    "Procesy wiązania/kompleksowania (binding):\n",
    "\n",
    "[Ogromne Znaczenie](http://www.msg.ucsf.edu/BI204/docs/Kuriyan.pdf)\n",
    "\n",
    "[Oddziaływania typu gospodarz-gość](https://en.wikipedia.org/wiki/Host%E2%80%93guest_chemistry)\n",
    "\n",
    "[Chemia molekularna i rozpoznawanie molekularne](https://pl.wikipedia.org/wiki/Chemia_supramolekularna)\n",
    "\n",
    "[Białka wiążące](https://en.wikipedia.org/wiki/Binding_protein)"
   ]
  },
  {
   "cell_type": "markdown",
   "metadata": {},
   "source": [
    "Zadanie 1.\n",
    "\n",
    "Wyznaczyć izotermę wiązania [HG] = f(G0)"
   ]
  },
  {
   "cell_type": "code",
   "execution_count": null,
   "metadata": {
    "collapsed": true
   },
   "outputs": [],
   "source": []
  }
 ],
 "metadata": {
  "kernelspec": {
   "display_name": "Python 2",
   "language": "python",
   "name": "python2"
  },
  "language_info": {
   "codemirror_mode": {
    "name": "ipython",
    "version": 2
   },
   "file_extension": ".py",
   "mimetype": "text/x-python",
   "name": "python",
   "nbconvert_exporter": "python",
   "pygments_lexer": "ipython2",
   "version": "2.7.10"
  }
 },
 "nbformat": 4,
 "nbformat_minor": 0
}
