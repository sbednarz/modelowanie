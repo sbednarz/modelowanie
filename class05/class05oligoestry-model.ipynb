{
 "cells": [
  {
   "cell_type": "markdown",
   "metadata": {
    "collapsed": true
   },
   "source": [
    "Model estryfikacji (oligomeryzacji) w układzie zamkniętym, w którym ustala się stan równowagi:\n",
    "\n",
    "$$A + B \\longleftrightarrow AB + W$$ \n",
    "$$AB + A \\longleftrightarrow ABA + W$$ \n",
    "$$AB + B \\longleftrightarrow BAB + W$$ \n",
    "$$ABA + B \\longleftrightarrow ABAB + W$$ \n",
    "\n",
    "\n",
    "gdzie: A - diol, B - kwas dikarboksylowy, W - woda, AB, ABA, BAB, ABAB - oligoestry\n",
    "\n",
    "Założenia: \n",
    "\n",
    "Wartość stałej równowagi dla każdego etapu ideantyczna, K = 5\n",
    "\n",
    "[A]0 = 5mol/L\n",
    "\n",
    "[B]0 = 5mol/L\n"
   ]
  },
  {
   "cell_type": "code",
   "execution_count": 1,
   "metadata": {
    "collapsed": false
   },
   "outputs": [
    {
     "name": "stdout",
     "output_type": "stream",
     "text": [
      "(0.926869834948572, 0.92686983494857222, 0.80090833399147532, 0.69206498611940093, 0.69206498611940026, 0.59801343635087556, 5.3632085875217035)\n"
     ]
    }
   ],
   "source": [
    "from scipy.optimize import fsolve\n",
    "import numpy as np\n",
    "\n",
    "\n",
    "K = 5\n",
    "a0 = 5\n",
    "b0 = 5\n",
    "\n",
    "\n",
    "# Model estryfikacji (ME)\n",
    "def model(X):\n",
    "    a, b, ab, aba, bab, abab, w = X\n",
    "    eq1 = ab*w - K*a*b\n",
    "    eq2 = aba*w - K*ab*a\n",
    "    eq3 = bab*w - K*ab*b\n",
    "    eq4 = abab*w - K*aba*b\n",
    "    eq5 = a0 - a - ab - 2*aba - bab - 2*abab # bilans materuałowy A\n",
    "    eq6 = b0 - b - ab - aba - 2*bab - 2*abab # bilans materiałowy B\n",
    "    eq7 = w - ab - 2*aba - 2*bab - 3*abab # bilans liczby moli wiązań estrowych i wody\n",
    "    return [eq1, eq2, eq3, eq4, eq5, eq6, eq7]\n",
    "\n",
    "a = 1\n",
    "b = 1\n",
    "ab = 1\n",
    "aba = 1\n",
    "bab = 1\n",
    "abab = 1\n",
    "w = 1\n",
    "\n",
    "guess = [a, b, ab, aba, bab, abab, w]\n",
    "a, b, ab, aba, bab, abab, w = fsolve(model, guess)\n",
    "print(a, b, ab, aba, bab, abab, w)"
   ]
  },
  {
   "cell_type": "markdown",
   "metadata": {},
   "source": [
    "**Sprawdzenie1** - bilans masy - przed i po ustaleniu się równowagi:"
   ]
  },
  {
   "cell_type": "code",
   "execution_count": 8,
   "metadata": {
    "collapsed": false
   },
   "outputs": [
    {
     "data": {
      "text/plain": [
       "900.85"
      ]
     },
     "execution_count": 8,
     "metadata": {},
     "output_type": "execute_result"
    }
   ],
   "source": [
    "# Bilans substratów - łaączna masa:\n",
    "a0*Ma + b0*Mb"
   ]
  },
  {
   "cell_type": "code",
   "execution_count": 9,
   "metadata": {
    "collapsed": false
   },
   "outputs": [
    {
     "data": {
      "text/plain": [
       "900.85000000000014"
      ]
     },
     "execution_count": 9,
     "metadata": {},
     "output_type": "execute_result"
    }
   ],
   "source": [
    "#przykłądowe masy molowe monomerów\n",
    "Ma = 62.07 #glikol etylenowy\n",
    "Mb = 118.1 #kwas burszynowy\n",
    "Mw = 18 # woda ;)\n",
    "\n",
    "# masy molowe produktów kondensacji:\n",
    "Mab = Ma + Mb - Mw\n",
    "Maba = Ma + Mb + Ma - Mw - Mw\n",
    "Mbab = Ma + Mb + Mb - Mw - Mw\n",
    "Mabab = Ma + Mb + Ma + Mb - Mw - Mw - Mw\n",
    "\n",
    "# łączna masa reagentów w stanie równowagi:\n",
    "a*Ma + b*Mb + ab*Mab + aba*Maba + bab*Mbab + abab*Mabab + w*Mw"
   ]
  },
  {
   "cell_type": "markdown",
   "metadata": {},
   "source": [
    "Sprawdzić czy bilans masy zgadza się, gdy zmieni się wsópłczynniki w Modelu (eq5, 6 i 7)."
   ]
  },
  {
   "cell_type": "markdown",
   "metadata": {
    "collapsed": true
   },
   "source": [
    "**Sprawdzenie2** - jakie będą stężenia równowagowe gdy K >> 1 ?\n",
    "\n",
    "Model zakłada, że abab jest końcowym produktem estryfikacji, dla [a]0 = 5 [b]0 = 5,  jego stężenie powinno dążyć do [abab] -> 2.5 mol/L, natomias wody do [h2o] -> 7.5 mol/L"
   ]
  },
  {
   "cell_type": "code",
   "execution_count": 10,
   "metadata": {
    "collapsed": false
   },
   "outputs": [
    {
     "name": "stdout",
     "output_type": "stream",
     "text": [
      "(5.6614253213008826e-06, 5.661425318899861e-06, 0.0004282943481757188, 0.03240103654047221, 0.03240103654047792, 2.4511814673025398, 7.4835768424176967)\n"
     ]
    }
   ],
   "source": [
    "from scipy.optimize import fsolve\n",
    "import numpy as np\n",
    "\n",
    "\n",
    "# dle K = 1e1 1e3 1e5 1e6 1e8\n",
    "# obserwować [abab] i [w]\n",
    "\n",
    "K = 1e8\n",
    "a0 = 5\n",
    "b0 = 5\n",
    "\n",
    "# Model ME (j.w.)\n",
    "def model(X):\n",
    "    a, b, ab, aba, bab, abab, w = X\n",
    "    eq1 = ab*w - K*a*b\n",
    "    eq2 = aba*w - K*ab*a\n",
    "    eq3 = bab*w - K*ab*b\n",
    "    eq4 = abab*w - K*aba*b\n",
    "    eq5 = a0 - a - ab - 2*aba - bab - 2*abab\n",
    "    eq6 = b0 - b - ab - aba - 2*bab - 2*abab\n",
    "    eq7 = w - ab - 2*aba - 2*bab - 3*abab\n",
    "    return [eq1, eq2, eq3, eq4, eq5, eq6, eq7]\n",
    "\n",
    "a = 1\n",
    "b = 1\n",
    "ab = 1\n",
    "aba = 1\n",
    "bab = 1\n",
    "abab = 1\n",
    "w = 1\n",
    "\n",
    "guess = [a, b, ab, aba, bab, abab, w]\n",
    "a, b, ab, aba, bab, abab, w = fsolve(model, guess)\n",
    "\n",
    "print(a, b, ab, aba, bab, abab, w)"
   ]
  },
  {
   "cell_type": "markdown",
   "metadata": {},
   "source": [
    "Wpływ wartości K na stężenia równowagowe - wersja bardziej zaawansowana skryptu:"
   ]
  },
  {
   "cell_type": "code",
   "execution_count": 11,
   "metadata": {
    "collapsed": false
   },
   "outputs": [
    {
     "name": "stdout",
     "output_type": "stream",
     "text": [
      "(0.62772155957657394, 0.62772155957657405, 0.67212437777734058, 0.71966809531089593, 0.71966809531089593, 0.77057488835669907, 5.8625214240910211, 10.0)\n",
      "(0.20238056297335197, 0.20238056297335189, 0.36764155567268453, 0.66785224572408808, 0.66785224572408808, 1.2132105720908499, 6.6786822548415863, 59.948425031894089)\n",
      "(0.058894986277640539, 0.058894986277640532, 0.17660172179585187, 0.5295555719162981, 0.52955557191629798, 1.5879182880888063, 7.0585788737274644, 359.38136638046257)\n",
      "(0.016334805386370443, 0.01633480538783769, 0.079367529286896568, 0.3856308389291021, 0.38563083892763472, 1.873702574270447, 7.2429986078117121, 2154.4346900318847)\n",
      "(0.0044211854875018611, 0.0044211854875018533, 0.03438316534988179, 0.26739481137338644, 0.26739481137338594, 2.0795056075212286, 7.3424792334071132, 12915.496650148827)\n",
      "(0.0011803046205294729, 0.0011803046205291414, 0.014574343580184052, 0.17996327990143704, 0.17996327990143715, 2.2221777560474876, 7.4009607313283956, 77426.368268112783)\n",
      "(0.00031250104542315186, 0.00031250104542139816, 0.0060949353207335822, 0.11887395932909346, 0.11887395932909532, 2.3184853428232803, 7.4370468011069519, 464158.88336127822)\n",
      "(8.2311819271366655e-05, 8.2311819273093341e-05, 0.0025272062545889751, 0.077592398148117719, 0.077592398148115402, 2.3823066437408942, 7.4598167300697389, 2782559.4022071259)\n",
      "(2.1609680662156683e-05, 2.1609680682647216e-05, 0.0010421914808932157, 0.05026280094330645, 0.05026280094328605, 2.4240738980042731, 7.4743150892668968, 16681005.372000592)\n",
      "(5.6614253213008826e-06, 5.661425318899861e-06, 0.0004282943481757188, 0.03240103654047221, 0.03240103654047792, 2.4511814673025398, 7.4835768424176967, 100000000.0)\n"
     ]
    },
    {
     "data": {
      "image/png": "[encoded data removed]",
      "text/plain": [
       "<matplotlib.figure.Figure at 0x7f634e1fc1d0>"
      ]
     },
     "metadata": {},
     "output_type": "display_data"
    }
   ],
   "source": [
    "from scipy.optimize import fsolve\n",
    "import numpy as np\n",
    "\n",
    "%matplotlib inline\n",
    "import matplotlib.pyplot as plt\n",
    "\n",
    "\n",
    "# Model ME (j.w.)\n",
    "\n",
    "def model(X, K):\n",
    "    a0 = 5\n",
    "    b0 = 5\n",
    "    a, b, ab, aba, bab, abab, w = X\n",
    "    eq1 = ab*w - K*a*b\n",
    "    eq2 = aba*w - K*ab*a\n",
    "    eq3 = bab*w - K*ab*b\n",
    "    eq4 = abab*w - K*aba*b\n",
    "    eq5 = a0 - a - ab - 2*aba - bab - 2*abab\n",
    "    eq6 = b0 - b - ab - aba - 2*bab - 2*abab\n",
    "    eq7 = w - ab - 2*aba - 2*bab - 3*abab\n",
    "    return [eq1, eq2, eq3, eq4, eq5, eq6, eq7]\n",
    "\n",
    "\n",
    "a = 1\n",
    "b = 1\n",
    "ab = 1\n",
    "aba = 1\n",
    "bab = 1\n",
    "abab = 1\n",
    "w = 1\n",
    "\n",
    "guess = [a, b, ab, aba, bab, abab, w]\n",
    "\n",
    "plt.xscale('log')\n",
    "plt.xlabel('K')\n",
    "plt.ylabel('[ABAB]')\n",
    "\n",
    "# logspace zamiast linspace!\n",
    "# sprawdzić:\n",
    "# print np.logspace(1,5,5)\n",
    "\n",
    "\n",
    "# wersja bez zapamiętywania wyników:\n",
    "for K in np.logspace(1,8,10):\n",
    "    a, b, ab, aba, bab, abab, w = fsolve(model, guess, K)\n",
    "    print(a, b, ab, aba, bab, abab, w, K)\n",
    "    plt.plot(K,abab,'bo')\n",
    "\n",
    "    "
   ]
  },
  {
   "cell_type": "code",
   "execution_count": 12,
   "metadata": {
    "collapsed": false
   },
   "outputs": [
    {
     "data": {
      "text/plain": [
       "[<matplotlib.lines.Line2D at 0x7f634e1fc490>]"
      ]
     },
     "execution_count": 12,
     "metadata": {},
     "output_type": "execute_result"
    },
    {
     "data": {
      "image/png": "[encoded data removed]",
      "text/plain": [
       "<matplotlib.figure.Figure at 0x7f6359f63cd0>"
      ]
     },
     "metadata": {},
     "output_type": "display_data"
    }
   ],
   "source": [
    "from scipy.optimize import fsolve\n",
    "import numpy as np\n",
    "\n",
    "%matplotlib inline\n",
    "import matplotlib.pyplot as plt\n",
    "\n",
    "\n",
    "# Model ME (j.w.)\n",
    "\n",
    "def model(X, K):\n",
    "    a0 = 5\n",
    "    b0 = 5\n",
    "    a, b, ab, aba, bab, abab, w = X\n",
    "    eq1 = ab*w - K*a*b\n",
    "    eq2 = aba*w - K*ab*a\n",
    "    eq3 = bab*w - K*ab*b\n",
    "    eq4 = abab*w - K*aba*b\n",
    "    eq5 = a0 - a - ab - 2*aba - bab - 2*abab\n",
    "    eq6 = b0 - b - ab - aba - 2*bab - 2*abab\n",
    "    eq7 = w - ab - 2*aba - 2*bab - 3*abab\n",
    "    return [eq1, eq2, eq3, eq4, eq5, eq6, eq7]\n",
    "\n",
    "\n",
    "a = 1\n",
    "b = 1\n",
    "ab = 1\n",
    "aba = 1\n",
    "bab = 1\n",
    "abab = 1\n",
    "w = 1\n",
    "\n",
    "guess = [a, b, ab, aba, bab, abab, w]\n",
    "\n",
    "# zmianne-listy do przechowywania wyników\n",
    "Kx = []\n",
    "ABABy = []\n",
    "\n",
    "# wersja z zapamiętywaniem wyników obliczeń\n",
    "for K in np.logspace(1,8,10):\n",
    "    a, b, ab, aba, bab, abab, w = fsolve(model, guess, K)\n",
    "    Kx.append(K)\n",
    "    ABABy.append(abab)\n",
    "\n",
    "    \n",
    "plt.xscale('log')\n",
    "plt.xlabel('K')\n",
    "plt.ylabel('[ABAB]')\n",
    "plt.plot(Kx,ABABy,'bo')\n",
    "\n"
   ]
  }
 ],
 "metadata": {
  "kernelspec": {
   "display_name": "Python 2",
   "language": "python",
   "name": "python2"
  },
  "language_info": {
   "codemirror_mode": {
    "name": "ipython",
    "version": 2
   },
   "file_extension": ".py",
   "mimetype": "text/x-python",
   "name": "python",
   "nbconvert_exporter": "python",
   "pygments_lexer": "ipython2",
   "version": "2.7.10"
  }
 },
 "nbformat": 4,
 "nbformat_minor": 0
}
