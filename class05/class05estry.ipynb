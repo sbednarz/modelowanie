{
 "cells": [
  {
   "cell_type": "code",
   "execution_count": 3,
   "metadata": {
    "collapsed": false
   },
   "outputs": [
    {
     "name": "stdout",
     "output_type": "stream",
     "text": [
      "3.45491502813\n"
     ]
    }
   ],
   "source": [
    "from scipy.optimize import fsolve\n",
    "\n",
    "\n",
    "K = 5\n",
    "\n",
    "a0 = 5\n",
    "k0 = 5\n",
    "\n",
    "def model(X):\n",
    "    a, k, ak, w = X\n",
    "    eq1 = ak*w - K*a*k\n",
    "    eq2 = a0 - a - ak\n",
    "    eq3 = k0 - k - ak\n",
    "    eq4 = ak - w\n",
    "    return [eq1, eq2, eq3, eq4]\n",
    "\n",
    "a=1\n",
    "k=1\n",
    "ak=1\n",
    "w=1\n",
    "guess = [a, k, ak, w]\n",
    "\n",
    "a, k, ak, w = fsolve(model, guess)\n",
    "print(ak)"
   ]
  },
  {
   "cell_type": "markdown",
   "metadata": {},
   "source": [
    "Jak uwzględnić obecność wody w surowcu?"
   ]
  },
  {
   "cell_type": "markdown",
   "metadata": {},
   "source": [
    "Pętle w Pythonie:"
   ]
  },
  {
   "cell_type": "code",
   "execution_count": 4,
   "metadata": {
    "collapsed": false
   },
   "outputs": [
    {
     "name": "stdout",
     "output_type": "stream",
     "text": [
      "1\n",
      "2\n",
      "3\n",
      "4.5\n"
     ]
    }
   ],
   "source": [
    "for x in [1,2,3,4.5]:\n",
    "    print(x)"
   ]
  },
  {
   "cell_type": "code",
   "execution_count": 11,
   "metadata": {
    "collapsed": false
   },
   "outputs": [
    {
     "name": "stdout",
     "output_type": "stream",
     "text": [
      "[ 0.   0.1  0.2  0.3  0.4  0.5  0.6  0.7  0.8  0.9]\n",
      "Teraz test obliczeń w pętli:\n",
      "0.0\n",
      "0.01\n",
      "0.04\n",
      "0.09\n",
      "0.16\n",
      "0.25\n",
      "0.36\n",
      "0.49\n",
      "0.64\n",
      "0.81\n"
     ]
    }
   ],
   "source": [
    "import numpy as np\n",
    "\n",
    "# a range:\n",
    "parametry = np.arange(0,1, 0.1)\n",
    "print(parametry)\n",
    "\n",
    "print(\"Teraz test obliczeń w pętli:\")\n",
    "\n",
    "#teraz pętla:\n",
    "for x in parametry:\n",
    "    xx = x**2\n",
    "    print(xx)"
   ]
  },
  {
   "cell_type": "code",
   "execution_count": null,
   "metadata": {
    "collapsed": true
   },
   "outputs": [],
   "source": []
  },
  {
   "cell_type": "code",
   "execution_count": null,
   "metadata": {
    "collapsed": true
   },
   "outputs": [],
   "source": []
  },
  {
   "cell_type": "code",
   "execution_count": null,
   "metadata": {
    "collapsed": true
   },
   "outputs": [],
   "source": []
  },
  {
   "cell_type": "code",
   "execution_count": null,
   "metadata": {
    "collapsed": true
   },
   "outputs": [],
   "source": []
  },
  {
   "cell_type": "code",
   "execution_count": null,
   "metadata": {
    "collapsed": true
   },
   "outputs": [],
   "source": []
  },
  {
   "cell_type": "code",
   "execution_count": null,
   "metadata": {
    "collapsed": true
   },
   "outputs": [],
   "source": []
  },
  {
   "cell_type": "code",
   "execution_count": null,
   "metadata": {
    "collapsed": true
   },
   "outputs": [],
   "source": []
  },
  {
   "cell_type": "code",
   "execution_count": null,
   "metadata": {
    "collapsed": true
   },
   "outputs": [],
   "source": []
  },
  {
   "cell_type": "code",
   "execution_count": null,
   "metadata": {
    "collapsed": true
   },
   "outputs": [],
   "source": []
  },
  {
   "cell_type": "code",
   "execution_count": null,
   "metadata": {
    "collapsed": true
   },
   "outputs": [],
   "source": []
  },
  {
   "cell_type": "code",
   "execution_count": null,
   "metadata": {
    "collapsed": true
   },
   "outputs": [],
   "source": []
  },
  {
   "cell_type": "code",
   "execution_count": null,
   "metadata": {
    "collapsed": true
   },
   "outputs": [],
   "source": []
  },
  {
   "cell_type": "code",
   "execution_count": null,
   "metadata": {
    "collapsed": true
   },
   "outputs": [],
   "source": []
  },
  {
   "cell_type": "code",
   "execution_count": null,
   "metadata": {
    "collapsed": true
   },
   "outputs": [],
   "source": []
  },
  {
   "cell_type": "code",
   "execution_count": null,
   "metadata": {
    "collapsed": true
   },
   "outputs": [],
   "source": []
  },
  {
   "cell_type": "markdown",
   "metadata": {},
   "source": [
    "from scipy.optimize import fsolve\n",
    "import numpy as np\n",
    "\n",
    "\n",
    "K = 5\n",
    "a0 = 5\n",
    "k0 = 5\n",
    "ak0 = 0\n",
    "\n",
    "def model(X, w0):\n",
    "    a, k, ak, w = X\n",
    "    eq1 = ak*w - K*a*k\n",
    "    eq2 = a0 - a - ak\n",
    "    eq3 = k0 - k - ak\n",
    "    eq4 = ak - w - w0\n",
    "    return [eq1, eq2, eq3, eq4]\n",
    "\n",
    "a=1\n",
    "k=1\n",
    "ak=1\n",
    "w=1\n",
    "guess = [a, k, ak, w]\n",
    "\n",
    "for w0 in np.linspace(0, 5, 10):\n",
    "    a, k, ak, w = fsolve(model, guess, w0)\n",
    "    print(\"Dla w0={0} stężenie estru={1}\".format(w0, ak))\n",
    "    \n",
    "    \n"
   ]
  },
  {
   "cell_type": "code",
   "execution_count": null,
   "metadata": {
    "collapsed": true
   },
   "outputs": [],
   "source": []
  }
 ],
 "metadata": {
  "kernelspec": {
   "display_name": "Python 2",
   "language": "python",
   "name": "python2"
  },
  "language_info": {
   "codemirror_mode": {
    "name": "ipython",
    "version": 2
   },
   "file_extension": ".py",
   "mimetype": "text/x-python",
   "name": "python",
   "nbconvert_exporter": "python",
   "pygments_lexer": "ipython2",
   "version": "2.7.10"
  }
 },
 "nbformat": 4,
 "nbformat_minor": 0
}
